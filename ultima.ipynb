{
 "cells": [
  {
   "cell_type": "code",
   "execution_count": 14,
   "metadata": {},
   "outputs": [],
   "source": [
    "import logging\n",
    "import os\n",
    "import time\n",
    "import requests\n",
    "\n",
    "import numpy as np\n",
    "import pandas as pd\n",
    "from sklearn.metrics import roc_auc_score\n",
    "from sklearn.model_selection import train_test_split\n",
    "import torch\n",
    "\n",
    "from lightautoml.automl.presets.tabular_presets import TabularAutoML, TabularUtilizedAutoML\n",
    "from lightautoml.dataset.roles import DatetimeRole\n",
    "from lightautoml.tasks import Task\n",
    "from lightautoml.utils.profiler import Profiler"
   ]
  },
  {
   "cell_type": "code",
   "execution_count": 32,
   "metadata": {},
   "outputs": [],
   "source": [
    "N_THREADS = 8 # threads cnt for lgbm and linear models\n",
    "N_FOLDS = 5 # folds cnt for AutoML\n",
    "RANDOM_STATE = 42 # fixed random state for various reasons\n",
    "TEST_SIZE = 0.2 # Test size for metric check\n",
    "TIMEOUT = 3600 # Time in seconds for automl run\n",
    "TARGET_NAME = 'Is_Lead' # Target column name"
   ]
  },
  {
   "cell_type": "code",
   "execution_count": 16,
   "metadata": {},
   "outputs": [],
   "source": [
    "np.random.seed(RANDOM_STATE)\n",
    "torch.set_num_threads(N_THREADS)"
   ]
  },
  {
   "cell_type": "code",
   "execution_count": 17,
   "metadata": {},
   "outputs": [
    {
     "data": {
      "text/html": [
       "<div>\n",
       "<style scoped>\n",
       "    .dataframe tbody tr th:only-of-type {\n",
       "        vertical-align: middle;\n",
       "    }\n",
       "\n",
       "    .dataframe tbody tr th {\n",
       "        vertical-align: top;\n",
       "    }\n",
       "\n",
       "    .dataframe thead th {\n",
       "        text-align: right;\n",
       "    }\n",
       "</style>\n",
       "<table border=\"1\" class=\"dataframe\">\n",
       "  <thead>\n",
       "    <tr style=\"text-align: right;\">\n",
       "      <th></th>\n",
       "      <th>Gender</th>\n",
       "      <th>Age</th>\n",
       "      <th>Region_Code</th>\n",
       "      <th>Occupation</th>\n",
       "      <th>Channel_Code</th>\n",
       "      <th>Vintage</th>\n",
       "      <th>Credit_Product</th>\n",
       "      <th>Avg_Account_Balance</th>\n",
       "      <th>Is_Active</th>\n",
       "      <th>Is_Lead</th>\n",
       "    </tr>\n",
       "  </thead>\n",
       "  <tbody>\n",
       "    <tr>\n",
       "      <th>0</th>\n",
       "      <td>0.0</td>\n",
       "      <td>73.0</td>\n",
       "      <td>18.0</td>\n",
       "      <td>1.0</td>\n",
       "      <td>2.0</td>\n",
       "      <td>43.0</td>\n",
       "      <td>0.0</td>\n",
       "      <td>1045696.0</td>\n",
       "      <td>0.0</td>\n",
       "      <td>0</td>\n",
       "    </tr>\n",
       "    <tr>\n",
       "      <th>1</th>\n",
       "      <td>0.0</td>\n",
       "      <td>30.0</td>\n",
       "      <td>27.0</td>\n",
       "      <td>2.0</td>\n",
       "      <td>0.0</td>\n",
       "      <td>32.0</td>\n",
       "      <td>0.0</td>\n",
       "      <td>581988.0</td>\n",
       "      <td>0.0</td>\n",
       "      <td>0</td>\n",
       "    </tr>\n",
       "    <tr>\n",
       "      <th>2</th>\n",
       "      <td>0.0</td>\n",
       "      <td>56.0</td>\n",
       "      <td>18.0</td>\n",
       "      <td>3.0</td>\n",
       "      <td>2.0</td>\n",
       "      <td>26.0</td>\n",
       "      <td>0.0</td>\n",
       "      <td>1484315.0</td>\n",
       "      <td>1.0</td>\n",
       "      <td>0</td>\n",
       "    </tr>\n",
       "    <tr>\n",
       "      <th>3</th>\n",
       "      <td>1.0</td>\n",
       "      <td>34.0</td>\n",
       "      <td>20.0</td>\n",
       "      <td>2.0</td>\n",
       "      <td>0.0</td>\n",
       "      <td>19.0</td>\n",
       "      <td>0.0</td>\n",
       "      <td>470454.0</td>\n",
       "      <td>0.0</td>\n",
       "      <td>0</td>\n",
       "    </tr>\n",
       "    <tr>\n",
       "      <th>4</th>\n",
       "      <td>0.0</td>\n",
       "      <td>30.0</td>\n",
       "      <td>32.0</td>\n",
       "      <td>2.0</td>\n",
       "      <td>0.0</td>\n",
       "      <td>33.0</td>\n",
       "      <td>0.0</td>\n",
       "      <td>886787.0</td>\n",
       "      <td>0.0</td>\n",
       "      <td>0</td>\n",
       "    </tr>\n",
       "  </tbody>\n",
       "</table>\n",
       "</div>"
      ],
      "text/plain": [
       "   Gender   Age  Region_Code  Occupation  Channel_Code  Vintage  \\\n",
       "0     0.0  73.0         18.0         1.0           2.0     43.0   \n",
       "1     0.0  30.0         27.0         2.0           0.0     32.0   \n",
       "2     0.0  56.0         18.0         3.0           2.0     26.0   \n",
       "3     1.0  34.0         20.0         2.0           0.0     19.0   \n",
       "4     0.0  30.0         32.0         2.0           0.0     33.0   \n",
       "\n",
       "   Credit_Product  Avg_Account_Balance  Is_Active  Is_Lead  \n",
       "0             0.0            1045696.0        0.0        0  \n",
       "1             0.0             581988.0        0.0        0  \n",
       "2             0.0            1484315.0        1.0        0  \n",
       "3             0.0             470454.0        0.0        0  \n",
       "4             0.0             886787.0        0.0        0  "
      ]
     },
     "execution_count": 17,
     "metadata": {},
     "output_type": "execute_result"
    }
   ],
   "source": [
    "data = pd.read_csv('smotetrain.csv')\n",
    "#data.drop([\"ID\"],inplace=True,axis=1)\n",
    "data.head()"
   ]
  },
  {
   "cell_type": "code",
   "execution_count": 18,
   "metadata": {},
   "outputs": [
    {
     "name": "stderr",
     "output_type": "stream",
     "text": [
      "INFO:root:Data splitted. Parts sizes: train_data = (299899, 10), test_data = (74975, 10)\n"
     ]
    }
   ],
   "source": [
    "train_data, test_data = train_test_split(data, \n",
    "                                         test_size=TEST_SIZE, \n",
    "                                         stratify=data[TARGET_NAME], \n",
    "                                         random_state=RANDOM_STATE)\n",
    "logging.info('Data splitted. Parts sizes: train_data = {}, test_data = {}'\n",
    "              .format(train_data.shape, test_data.shape))"
   ]
  },
  {
   "cell_type": "code",
   "execution_count": 19,
   "metadata": {},
   "outputs": [],
   "source": [
    "task = Task('binary', )\n",
    "roles = {'target': TARGET_NAME,\n",
    "         DatetimeRole(base_date=True, seasonality=(), base_feats=False): 'report_dt',\n",
    "         }"
   ]
  },
  {
   "cell_type": "code",
   "execution_count": null,
   "metadata": {},
   "outputs": [
    {
     "name": "stderr",
     "output_type": "stream",
     "text": [
      "Copying TaskTimer may affect the parent PipelineTimer, so copy will create new unlimited TaskTimer\n"
     ]
    },
    {
     "name": "stdout",
     "output_type": "stream",
     "text": [
      "Start automl preset with listed constraints:\n",
      "- time: 620 seconds\n",
      "- cpus: 8 cores\n",
      "- memory: 16 gb\n",
      "\n",
      "Train data shape: (299899, 10)\n"
     ]
    }
   ],
   "source": [
    "automl = TabularAutoML(task = task, \n",
    "                       timeout = TIMEOUT,\n",
    "                       cpu_limit = N_THREADS,\n",
    "                       reader_params = {'n_jobs': N_THREADS, 'cv': N_FOLDS, 'random_state': RANDOM_STATE},\n",
    "                      )\n",
    "oof_pred = automl.fit_predict(train_data, roles = roles)\n",
    "logging.info('oof_pred:\\n{}\\nShape = {}'.format(oof_pred, oof_pred.shape))\n"
   ]
  },
  {
   "cell_type": "code",
   "execution_count": 8,
   "metadata": {},
   "outputs": [
    {
     "name": "stdout",
     "output_type": "stream",
     "text": [
      "LightAutoML used 9 feats\n",
      "1/9 Calculated score for Gender: 0.0000671\n",
      "2/9 Calculated score for Channel_Code: 0.0075381\n",
      "3/9 Calculated score for Credit_Product: 0.2096989\n",
      "4/9 Calculated score for Avg_Account_Balance: 0.0001893\n",
      "5/9 Calculated score for Occupation: 0.0802830\n",
      "6/9 Calculated score for Region_Code: 0.0010754\n",
      "7/9 Calculated score for Vintage: 0.0372890\n",
      "8/9 Calculated score for Is_Active: 0.0049491\n",
      "9/9 Calculated score for Age: 0.0567152\n"
     ]
    },
    {
     "data": {
      "text/plain": [
       "<matplotlib.axes._subplots.AxesSubplot at 0x1a24ca24220>"
      ]
     },
     "execution_count": 8,
     "metadata": {},
     "output_type": "execute_result"
    },
    {
     "data": {
      "image/png": "[encoded data removed]",
      "text/plain": [
       "<Figure size 1440x720 with 1 Axes>"
      ]
     },
     "metadata": {
      "needs_background": "light"
     },
     "output_type": "display_data"
    }
   ],
   "source": [
    "fast_fi = automl.get_feature_scores('fast')\n",
    "fast_fi.set_index('Feature')['Importance'].plot.bar(figsize = (20, 10), grid = True)\n",
    "accurate_fi = automl.get_feature_scores('accurate', test_data, silent = False)\n",
    "accurate_fi.set_index('Feature')['Importance'].plot.bar(figsize = (20, 10), grid = True)"
   ]
  },
  {
   "cell_type": "code",
   "execution_count": 9,
   "metadata": {},
   "outputs": [
    {
     "name": "stderr",
     "output_type": "stream",
     "text": [
      "[2021-05-30 23:15:40,471] (INFO): Prediction for test data:\n",
      "array([[0.05085582],\n",
      "       [0.09890639],\n",
      "       [0.9858508 ],\n",
      "       ...,\n",
      "       [0.05335942],\n",
      "       [0.03970084],\n",
      "       [0.1885561 ]], dtype=float32)\n",
      "Shape = (49145, 1)\n",
      "[2021-05-30 23:15:40,472] (INFO): Check scores...\n"
     ]
    }
   ],
   "source": [
    "test_pred = automl.predict(test_data)\n",
    "logging.info('Prediction for test data:\\n{}\\nShape = {}'\n",
    "              .format(test_pred, test_pred.shape))\n",
    "\n",
    "logging.info('Check scores...')\n",
    "#logging.info('OOF score: {}'.format(roc_auc_score(train_data[TARGET_NAME].values, oof_pred.data[:, 0])))\n",
    "#logging.info('TEST score: {}'.format(roc_auc_score(test_data[TARGET_NAME].values, test_pred.data[:, 0])))"
   ]
  },
  {
   "cell_type": "code",
   "execution_count": null,
   "metadata": {},
   "outputs": [
    {
     "name": "stdout",
     "output_type": "stream",
     "text": [
      "Current random state: {'reader_params': {'random_state': 42}, 'general_params': {'return_all_predictions': False}}\n",
      "Found reader_params in kwargs, need to combine\n",
      "Merged variant for reader_params = {'n_jobs': 8, 'cv': 5, 'random_state': 42}\n",
      "Start automl preset with listed constraints:\n",
      "- time: 3599.9970405101776 seconds\n",
      "- cpus: 8 cores\n",
      "- memory: 16 gb\n",
      "\n",
      "Train data shape: (299899, 10)\n",
      "Feats was rejected during automatic roles guess: []\n",
      "\n",
      "\n",
      "Layer 1 ...\n",
      "Train process start. Time left 3529.4948194026947 secs\n",
      "Start fitting Lvl_0_Pipe_0_Mod_0_LinearL2 ...\n",
      "\n",
      "===== Start working with fold 0 for Lvl_0_Pipe_0_Mod_0_LinearL2 =====\n",
      "\n",
      "Linear model: C = 1e-05 score = 0.8943937575724086\n",
      "Linear model: C = 5e-05 score = 0.9004349905008905\n",
      "Linear model: C = 0.0001 score = 0.904350328068676\n",
      "Linear model: C = 0.0005 score = 0.9163458370751794\n",
      "Linear model: C = 0.001 score = 0.9190392040205466\n",
      "Linear model: C = 0.005 score = 0.9229836671132235\n",
      "Linear model: C = 0.01 score = 0.923936643435997\n",
      "Linear model: C = 0.05 score = 0.9249264520873413\n",
      "Linear model: C = 0.1 score = 0.9249264520873413\n",
      "Linear model: C = 0.5 score = 0.9249264520873413\n",
      "\n",
      "===== Start working with fold 1 for Lvl_0_Pipe_0_Mod_0_LinearL2 =====\n",
      "\n",
      "Linear model: C = 1e-05 score = 0.8948253352429023\n",
      "Linear model: C = 5e-05 score = 0.9010150376901226\n",
      "Linear model: C = 0.0001 score = 0.9051962963980102\n",
      "Linear model: C = 0.0005 score = 0.9168219916808994\n",
      "Linear model: C = 0.001 score = 0.9192931710814798\n",
      "Linear model: C = 0.005 score = 0.9225186371449148\n",
      "Linear model: C = 0.01 score = 0.9232582812699266\n",
      "Linear model: C = 0.05 score = 0.9238049050695013\n",
      "Linear model: C = 0.1 score = 0.9238049050695013\n",
      "Linear model: C = 0.5 score = 0.9238049050695013\n",
      "\n",
      "===== Start working with fold 2 for Lvl_0_Pipe_0_Mod_0_LinearL2 =====\n",
      "\n",
      "Linear model: C = 1e-05 score = 0.894940769408409\n",
      "Linear model: C = 5e-05 score = 0.9003835740067184\n",
      "Linear model: C = 0.0001 score = 0.9041010941626536\n",
      "Linear model: C = 0.0005 score = 0.9157687173928488\n",
      "Linear model: C = 0.001 score = 0.9183843480782357\n",
      "Linear model: C = 0.005 score = 0.9222527804922414\n",
      "Linear model: C = 0.01 score = 0.9231326825514028\n",
      "Linear model: C = 0.05 score = 0.9242379537204855\n",
      "Linear model: C = 0.1 score = 0.9242379537204855\n",
      "Linear model: C = 0.5 score = 0.9242379537204855\n",
      "\n",
      "===== Start working with fold 3 for Lvl_0_Pipe_0_Mod_0_LinearL2 =====\n",
      "\n",
      "Linear model: C = 1e-05 score = 0.8945072988095064\n",
      "Linear model: C = 5e-05 score = 0.9004638458456921\n",
      "Linear model: C = 0.0001 score = 0.9044041861903284\n",
      "Linear model: C = 0.0005 score = 0.9168484837838022\n",
      "Linear model: C = 0.001 score = 0.9198788214499866\n",
      "Linear model: C = 0.005 score = 0.9237998311318845\n",
      "Linear model: C = 0.01 score = 0.9247614532175391\n",
      "Linear model: C = 0.05 score = 0.9254388508518065\n",
      "Linear model: C = 0.1 score = 0.9254388508518065\n",
      "Linear model: C = 0.5 score = 0.9254388508518065\n",
      "\n",
      "===== Start working with fold 4 for Lvl_0_Pipe_0_Mod_0_LinearL2 =====\n",
      "\n",
      "Linear model: C = 1e-05 score = 0.8946987408776572\n",
      "Linear model: C = 5e-05 score = 0.9003636016989713\n",
      "Linear model: C = 0.0001 score = 0.9043445200775019\n",
      "Linear model: C = 0.0005 score = 0.9160235311800611\n",
      "Linear model: C = 0.001 score = 0.9187769310011871\n",
      "Linear model: C = 0.005 score = 0.9224189794343955\n",
      "Linear model: C = 0.01 score = 0.9232847325780039\n",
      "Linear model: C = 0.05 score = 0.9239779922194657\n",
      "Linear model: C = 0.1 score = 0.9239779922194657\n",
      "Linear model: C = 0.5 score = 0.9239779922194657\n",
      "Lvl_0_Pipe_0_Mod_0_LinearL2 fitting and predicting completed\n",
      "Time left 3490.6285276412964\n",
      "Start fitting Lvl_0_Pipe_1_Mod_0_LightGBM ...\n",
      "\n",
      "===== Start working with fold 0 for Lvl_0_Pipe_1_Mod_0_LightGBM =====\n",
      "\n",
      "Training until validation scores don't improve for 100 rounds\n",
      "[100]\tvalid's auc: 0.933215\n",
      "[200]\tvalid's auc: 0.933877\n",
      "[300]\tvalid's auc: 0.933857\n",
      "Early stopping, best iteration is:\n",
      "[286]\tvalid's auc: 0.933907\n",
      "\n",
      "===== Start working with fold 1 for Lvl_0_Pipe_1_Mod_0_LightGBM =====\n",
      "\n",
      "Training until validation scores don't improve for 100 rounds\n",
      "[100]\tvalid's auc: 0.932971\n",
      "[200]\tvalid's auc: 0.933537\n",
      "[300]\tvalid's auc: 0.933634\n",
      "[400]\tvalid's auc: 0.933616\n",
      "Early stopping, best iteration is:\n",
      "[358]\tvalid's auc: 0.933677\n",
      "\n",
      "===== Start working with fold 2 for Lvl_0_Pipe_1_Mod_0_LightGBM =====\n",
      "\n",
      "Training until validation scores don't improve for 100 rounds\n",
      "[100]\tvalid's auc: 0.932842\n",
      "[200]\tvalid's auc: 0.933356\n",
      "[300]\tvalid's auc: 0.933386\n",
      "Early stopping, best iteration is:\n",
      "[253]\tvalid's auc: 0.933447\n",
      "\n",
      "===== Start working with fold 3 for Lvl_0_Pipe_1_Mod_0_LightGBM =====\n",
      "\n",
      "Training until validation scores don't improve for 100 rounds\n",
      "[100]\tvalid's auc: 0.9331\n",
      "[200]\tvalid's auc: 0.933558\n",
      "Early stopping, best iteration is:\n",
      "[195]\tvalid's auc: 0.933578\n",
      "\n",
      "===== Start working with fold 4 for Lvl_0_Pipe_1_Mod_0_LightGBM =====\n",
      "\n",
      "Training until validation scores don't improve for 100 rounds\n",
      "[100]\tvalid's auc: 0.928661\n",
      "Early stopping, best iteration is:\n",
      "[6]\tvalid's auc: 0.928944\n",
      "Lvl_0_Pipe_1_Mod_0_LightGBM fitting and predicting completed\n",
      "Optuna may run 676.8613052779976 secs\n"
     ]
    },
    {
     "name": "stderr",
     "output_type": "stream",
     "text": [
      "INFO:optuna.storages._in_memory:A new study created in memory with name: no-name-71d16347-c076-4365-96fc-112ffa058ea7\n"
     ]
    },
    {
     "name": "stdout",
     "output_type": "stream",
     "text": [
      "Start fitting Lvl_0_Pipe_1_Mod_1_LightGBM ...\n",
      "\n",
      "===== Start working with fold 0 for Lvl_0_Pipe_1_Mod_1_LightGBM =====\n",
      "\n",
      "Training until validation scores don't improve for 100 rounds\n",
      "[100]\tvalid's auc: 0.933298\n",
      "[200]\tvalid's auc: 0.933633\n",
      "[300]\tvalid's auc: 0.933597\n",
      "Early stopping, best iteration is:\n",
      "[249]\tvalid's auc: 0.933682\n",
      "Lvl_0_Pipe_1_Mod_1_LightGBM fitting and predicting completed\n"
     ]
    },
    {
     "name": "stderr",
     "output_type": "stream",
     "text": [
      "INFO:optuna.study:Trial 0 finished with value: 0.9336822794438204 and parameters: {'feature_fraction': 0.6872700594236812, 'num_leaves': 244, 'bagging_fraction': 0.8659969709057025, 'min_sum_hessian_in_leaf': 0.24810409748678125, 'reg_alpha': 2.5361081166471375e-07, 'reg_lambda': 2.5348407664333426e-07}. Best is trial 0 with value: 0.9336822794438204.\n"
     ]
    },
    {
     "name": "stdout",
     "output_type": "stream",
     "text": [
      "Start fitting Lvl_0_Pipe_1_Mod_1_LightGBM ...\n",
      "\n",
      "===== Start working with fold 0 for Lvl_0_Pipe_1_Mod_1_LightGBM =====\n",
      "\n",
      "Training until validation scores don't improve for 100 rounds\n",
      "[100]\tvalid's auc: 0.933477\n",
      "[200]\tvalid's auc: 0.933963\n",
      "[300]\tvalid's auc: 0.933943\n",
      "[400]\tvalid's auc: 0.933904\n",
      "Early stopping, best iteration is:\n",
      "[317]\tvalid's auc: 0.933989\n",
      "Lvl_0_Pipe_1_Mod_1_LightGBM fitting and predicting completed\n"
     ]
    },
    {
     "name": "stderr",
     "output_type": "stream",
     "text": [
      "INFO:optuna.study:Trial 1 finished with value: 0.9339887943085619 and parameters: {'feature_fraction': 0.5290418060840998, 'num_leaves': 223, 'bagging_fraction': 0.8005575058716043, 'min_sum_hessian_in_leaf': 0.679657809075816, 'reg_alpha': 1.5320059381854043e-08, 'reg_lambda': 5.360294728728285}. Best is trial 1 with value: 0.9339887943085619.\n"
     ]
    },
    {
     "name": "stdout",
     "output_type": "stream",
     "text": [
      "Start fitting Lvl_0_Pipe_1_Mod_1_LightGBM ...\n",
      "\n",
      "===== Start working with fold 0 for Lvl_0_Pipe_1_Mod_1_LightGBM =====\n",
      "\n",
      "Training until validation scores don't improve for 100 rounds\n",
      "[100]\tvalid's auc: 0.932739\n",
      "[200]\tvalid's auc: 0.933537\n",
      "[300]\tvalid's auc: 0.933583\n",
      "Early stopping, best iteration is:\n",
      "[226]\tvalid's auc: 0.933644\n",
      "Lvl_0_Pipe_1_Mod_1_LightGBM fitting and predicting completed\n"
     ]
    },
    {
     "name": "stderr",
     "output_type": "stream",
     "text": [
      "INFO:optuna.study:Trial 2 finished with value: 0.9336442507622581 and parameters: {'feature_fraction': 0.9162213204002109, 'num_leaves': 66, 'bagging_fraction': 0.5909124836035503, 'min_sum_hessian_in_leaf': 0.00541524411940254, 'reg_alpha': 5.472429642032198e-06, 'reg_lambda': 0.00052821153945323}. Best is trial 1 with value: 0.9339887943085619.\n"
     ]
    },
    {
     "name": "stdout",
     "output_type": "stream",
     "text": [
      "Start fitting Lvl_0_Pipe_1_Mod_1_LightGBM ...\n",
      "\n",
      "===== Start working with fold 0 for Lvl_0_Pipe_1_Mod_1_LightGBM =====\n",
      "\n",
      "Training until validation scores don't improve for 100 rounds\n",
      "[100]\tvalid's auc: 0.933229\n",
      "[200]\tvalid's auc: 0.933512\n",
      "[300]\tvalid's auc: 0.933613\n",
      "[400]\tvalid's auc: 0.933635\n",
      "[500]\tvalid's auc: 0.933663\n",
      "Early stopping, best iteration is:\n",
      "[495]\tvalid's auc: 0.93367\n",
      "Lvl_0_Pipe_1_Mod_1_LightGBM fitting and predicting completed\n"
     ]
    },
    {
     "name": "stderr",
     "output_type": "stream",
     "text": [
      "INFO:optuna.study:Trial 3 finished with value: 0.9336701296786603 and parameters: {'feature_fraction': 0.7159725093210578, 'num_leaves': 85, 'bagging_fraction': 0.8059264473611898, 'min_sum_hessian_in_leaf': 0.003613894271216527, 'reg_alpha': 4.258943089524393e-06, 'reg_lambda': 1.9826980964985924e-05}. Best is trial 1 with value: 0.9339887943085619.\n"
     ]
    },
    {
     "name": "stdout",
     "output_type": "stream",
     "text": [
      "Start fitting Lvl_0_Pipe_1_Mod_1_LightGBM ...\n",
      "\n",
      "===== Start working with fold 0 for Lvl_0_Pipe_1_Mod_1_LightGBM =====\n",
      "\n",
      "Training until validation scores don't improve for 100 rounds\n",
      "[100]\tvalid's auc: 0.933011\n",
      "[200]\tvalid's auc: 0.933172\n",
      "Early stopping, best iteration is:\n",
      "[145]\tvalid's auc: 0.933292\n",
      "Lvl_0_Pipe_1_Mod_1_LightGBM fitting and predicting completed\n"
     ]
    },
    {
     "name": "stderr",
     "output_type": "stream",
     "text": [
      "INFO:optuna.study:Trial 4 finished with value: 0.9332920988111965 and parameters: {'feature_fraction': 0.728034992108518, 'num_leaves': 204, 'bagging_fraction': 0.5998368910791798, 'min_sum_hessian_in_leaf': 0.11400863701127326, 'reg_alpha': 0.0021465011216654484, 'reg_lambda': 2.6185068507773707e-08}. Best is trial 1 with value: 0.9339887943085619.\n"
     ]
    },
    {
     "name": "stdout",
     "output_type": "stream",
     "text": [
      "Start fitting Lvl_0_Pipe_1_Mod_1_LightGBM ...\n",
      "\n",
      "===== Start working with fold 0 for Lvl_0_Pipe_1_Mod_1_LightGBM =====\n",
      "\n",
      "Training until validation scores don't improve for 100 rounds\n",
      "[100]\tvalid's auc: 0.932781\n",
      "[200]\tvalid's auc: 0.933429\n",
      "[300]\tvalid's auc: 0.93364\n",
      "[400]\tvalid's auc: 0.933649\n",
      "[500]\tvalid's auc: 0.933731\n",
      "Early stopping, best iteration is:\n",
      "[487]\tvalid's auc: 0.933765\n",
      "Lvl_0_Pipe_1_Mod_1_LightGBM fitting and predicting completed\n"
     ]
    },
    {
     "name": "stderr",
     "output_type": "stream",
     "text": [
      "INFO:optuna.study:Trial 5 finished with value: 0.9337646482360853 and parameters: {'feature_fraction': 0.8037724259507192, 'num_leaves': 56, 'bagging_fraction': 0.5325257964926398, 'min_sum_hessian_in_leaf': 6.245139574743075, 'reg_alpha': 4.905556676028774, 'reg_lambda': 0.18861495878553936}. Best is trial 1 with value: 0.9339887943085619.\n"
     ]
    },
    {
     "name": "stdout",
     "output_type": "stream",
     "text": [
      "Start fitting Lvl_0_Pipe_1_Mod_1_LightGBM ...\n",
      "\n",
      "===== Start working with fold 0 for Lvl_0_Pipe_1_Mod_1_LightGBM =====\n",
      "\n",
      "Training until validation scores don't improve for 100 rounds\n",
      "[100]\tvalid's auc: 0.93284\n",
      "[200]\tvalid's auc: 0.933478\n",
      "[300]\tvalid's auc: 0.933704\n",
      "[400]\tvalid's auc: 0.933774\n",
      "Early stopping, best iteration is:\n",
      "[377]\tvalid's auc: 0.933795\n",
      "Lvl_0_Pipe_1_Mod_1_LightGBM fitting and predicting completed\n"
     ]
    },
    {
     "name": "stderr",
     "output_type": "stream",
     "text": [
      "INFO:optuna.study:Trial 6 finished with value: 0.933794824461327 and parameters: {'feature_fraction': 0.6523068845866853, 'num_leaves': 39, 'bagging_fraction': 0.8421165132560784, 'min_sum_hessian_in_leaf': 0.057624872164786026, 'reg_alpha': 1.254134495897175e-07, 'reg_lambda': 0.00028614897264046574}. Best is trial 1 with value: 0.9339887943085619.\n"
     ]
    },
    {
     "name": "stdout",
     "output_type": "stream",
     "text": [
      "Start fitting Lvl_0_Pipe_1_Mod_1_LightGBM ...\n",
      "\n",
      "===== Start working with fold 0 for Lvl_0_Pipe_1_Mod_1_LightGBM =====\n",
      "\n",
      "Training until validation scores don't improve for 100 rounds\n",
      "[100]\tvalid's auc: 0.932868\n",
      "[200]\tvalid's auc: 0.933058\n",
      "[300]\tvalid's auc: 0.93298\n",
      "Early stopping, best iteration is:\n",
      "[254]\tvalid's auc: 0.933162\n",
      "Lvl_0_Pipe_1_Mod_1_LightGBM fitting and predicting completed\n"
     ]
    },
    {
     "name": "stderr",
     "output_type": "stream",
     "text": [
      "INFO:optuna.study:Trial 7 finished with value: 0.9331619687389405 and parameters: {'feature_fraction': 0.5171942605576092, 'num_leaves': 234, 'bagging_fraction': 0.6293899908000085, 'min_sum_hessian_in_leaf': 0.4467752817973907, 'reg_alpha': 6.388511557344611e-06, 'reg_lambda': 0.0004793052550782129}. Best is trial 1 with value: 0.9339887943085619.\n"
     ]
    },
    {
     "name": "stdout",
     "output_type": "stream",
     "text": [
      "Start fitting Lvl_0_Pipe_1_Mod_1_LightGBM ...\n",
      "\n",
      "===== Start working with fold 0 for Lvl_0_Pipe_1_Mod_1_LightGBM =====\n",
      "\n",
      "Training until validation scores don't improve for 100 rounds\n",
      "[100]\tvalid's auc: 0.932984\n",
      "[200]\tvalid's auc: 0.93375\n",
      "[300]\tvalid's auc: 0.933883\n",
      "[400]\tvalid's auc: 0.93392\n",
      "[500]\tvalid's auc: 0.934015\n",
      "[600]\tvalid's auc: 0.93404\n",
      "[700]\tvalid's auc: 0.934088\n",
      "[800]\tvalid's auc: 0.934124\n",
      "Early stopping, best iteration is:\n",
      "[798]\tvalid's auc: 0.934129\n",
      "Lvl_0_Pipe_1_Mod_1_LightGBM fitting and predicting completed\n"
     ]
    },
    {
     "name": "stderr",
     "output_type": "stream",
     "text": [
      "INFO:optuna.study:Trial 8 finished with value: 0.9341290817067954 and parameters: {'feature_fraction': 0.7733551396716398, 'num_leaves': 60, 'bagging_fraction': 0.9847923138822793, 'min_sum_hessian_in_leaf': 1.2604664585649468, 'reg_alpha': 2.854239907497756, 'reg_lambda': 1.1309571585271483}. Best is trial 8 with value: 0.9341290817067954.\n"
     ]
    },
    {
     "name": "stdout",
     "output_type": "stream",
     "text": [
      "Start fitting Lvl_0_Pipe_1_Mod_1_LightGBM ...\n",
      "\n",
      "===== Start working with fold 0 for Lvl_0_Pipe_1_Mod_1_LightGBM =====\n",
      "\n",
      "Training until validation scores don't improve for 100 rounds\n",
      "[100]\tvalid's auc: 0.93288\n",
      "[200]\tvalid's auc: 0.933148\n",
      "Early stopping, best iteration is:\n",
      "[178]\tvalid's auc: 0.933176\n",
      "Lvl_0_Pipe_1_Mod_1_LightGBM fitting and predicting completed\n"
     ]
    },
    {
     "name": "stderr",
     "output_type": "stream",
     "text": [
      "INFO:optuna.study:Trial 9 finished with value: 0.933176150414037 and parameters: {'feature_fraction': 0.7989499894055425, 'num_leaves': 237, 'bagging_fraction': 0.5442462510259598, 'min_sum_hessian_in_leaf': 0.006080390190296602, 'reg_alpha': 2.5529693461039728e-08, 'reg_lambda': 8.471746987003668e-06}. Best is trial 8 with value: 0.9341290817067954.\n"
     ]
    },
    {
     "name": "stdout",
     "output_type": "stream",
     "text": [
      "Start fitting Lvl_0_Pipe_1_Mod_1_LightGBM ...\n",
      "\n",
      "===== Start working with fold 0 for Lvl_0_Pipe_1_Mod_1_LightGBM =====\n",
      "\n",
      "Training until validation scores don't improve for 100 rounds\n",
      "[100]\tvalid's auc: 0.932917\n",
      "[200]\tvalid's auc: 0.933573\n",
      "[300]\tvalid's auc: 0.933687\n",
      "[400]\tvalid's auc: 0.933692\n",
      "Early stopping, best iteration is:\n",
      "[338]\tvalid's auc: 0.933715\n",
      "Lvl_0_Pipe_1_Mod_1_LightGBM fitting and predicting completed\n"
     ]
    },
    {
     "name": "stderr",
     "output_type": "stream",
     "text": [
      "INFO:optuna.study:Trial 10 finished with value: 0.933714645462014 and parameters: {'feature_fraction': 0.9725682721151934, 'num_leaves': 134, 'bagging_fraction': 0.9847685553939332, 'min_sum_hessian_in_leaf': 5.997863556602819, 'reg_alpha': 7.159256876318388, 'reg_lambda': 0.16588182839130192}. Best is trial 8 with value: 0.9341290817067954.\n"
     ]
    },
    {
     "name": "stdout",
     "output_type": "stream",
     "text": [
      "Start fitting Lvl_0_Pipe_1_Mod_1_LightGBM ...\n",
      "\n",
      "===== Start working with fold 0 for Lvl_0_Pipe_1_Mod_1_LightGBM =====\n",
      "\n",
      "Training until validation scores don't improve for 100 rounds\n",
      "[100]\tvalid's auc: 0.933227\n",
      "[200]\tvalid's auc: 0.933874\n",
      "[300]\tvalid's auc: 0.933896\n",
      "[400]\tvalid's auc: 0.933909\n",
      "Early stopping, best iteration is:\n",
      "[373]\tvalid's auc: 0.933939\n",
      "Lvl_0_Pipe_1_Mod_1_LightGBM fitting and predicting completed\n"
     ]
    },
    {
     "name": "stderr",
     "output_type": "stream",
     "text": [
      "INFO:optuna.study:Trial 11 finished with value: 0.9339391495509062 and parameters: {'feature_fraction': 0.5077973998292281, 'num_leaves': 166, 'bagging_fraction': 0.9961813327301685, 'min_sum_hessian_in_leaf': 1.107899668292902, 'reg_alpha': 0.014725306700494503, 'reg_lambda': 7.3871412375861425}. Best is trial 8 with value: 0.9341290817067954.\n"
     ]
    },
    {
     "name": "stdout",
     "output_type": "stream",
     "text": [
      "Start fitting Lvl_0_Pipe_1_Mod_1_LightGBM ...\n",
      "\n",
      "===== Start working with fold 0 for Lvl_0_Pipe_1_Mod_1_LightGBM =====\n",
      "\n",
      "Training until validation scores don't improve for 100 rounds\n",
      "[100]\tvalid's auc: 0.933075\n",
      "[200]\tvalid's auc: 0.933574\n",
      "[300]\tvalid's auc: 0.933749\n",
      "[400]\tvalid's auc: 0.933728\n",
      "Early stopping, best iteration is:\n",
      "[334]\tvalid's auc: 0.933776\n",
      "Lvl_0_Pipe_1_Mod_1_LightGBM fitting and predicting completed\n"
     ]
    },
    {
     "name": "stderr",
     "output_type": "stream",
     "text": [
      "INFO:optuna.study:Trial 12 finished with value: 0.9337761581302916 and parameters: {'feature_fraction': 0.5945472039245955, 'num_leaves': 113, 'bagging_fraction': 0.71105092313619, 'min_sum_hessian_in_leaf': 1.1357685978206988, 'reg_alpha': 0.15998888489412647, 'reg_lambda': 2.4368943076873095}. Best is trial 8 with value: 0.9341290817067954.\n"
     ]
    },
    {
     "name": "stdout",
     "output_type": "stream",
     "text": [
      "Start fitting Lvl_0_Pipe_1_Mod_1_LightGBM ...\n",
      "\n",
      "===== Start working with fold 0 for Lvl_0_Pipe_1_Mod_1_LightGBM =====\n",
      "\n",
      "Training until validation scores don't improve for 100 rounds\n",
      "[100]\tvalid's auc: 0.931725\n",
      "[200]\tvalid's auc: 0.932909\n",
      "[300]\tvalid's auc: 0.933183\n",
      "[400]\tvalid's auc: 0.933352\n",
      "[500]\tvalid's auc: 0.933511\n",
      "[600]\tvalid's auc: 0.933602\n",
      "[700]\tvalid's auc: 0.933719\n",
      "[800]\tvalid's auc: 0.933817\n",
      "[900]\tvalid's auc: 0.933901\n",
      "Early stopping, best iteration is:\n",
      "[875]\tvalid's auc: 0.93392\n",
      "Lvl_0_Pipe_1_Mod_1_LightGBM fitting and predicting completed\n"
     ]
    },
    {
     "name": "stderr",
     "output_type": "stream",
     "text": [
      "INFO:optuna.study:Trial 13 finished with value: 0.9339199217344984 and parameters: {'feature_fraction': 0.8817118079813759, 'num_leaves': 17, 'bagging_fraction': 0.9131807318142184, 'min_sum_hessian_in_leaf': 1.9669755134523759, 'reg_alpha': 0.00015032920516722508, 'reg_lambda': 0.11731046101260606}. Best is trial 8 with value: 0.9341290817067954.\n"
     ]
    },
    {
     "name": "stdout",
     "output_type": "stream",
     "text": [
      "Start fitting Lvl_0_Pipe_1_Mod_1_LightGBM ...\n",
      "\n",
      "===== Start working with fold 0 for Lvl_0_Pipe_1_Mod_1_LightGBM =====\n",
      "\n",
      "Training until validation scores don't improve for 100 rounds\n",
      "[100]\tvalid's auc: 0.933181\n",
      "[200]\tvalid's auc: 0.933647\n",
      "[300]\tvalid's auc: 0.933818\n",
      "[400]\tvalid's auc: 0.933664\n",
      "Early stopping, best iteration is:\n",
      "[326]\tvalid's auc: 0.9339\n",
      "Lvl_0_Pipe_1_Mod_1_LightGBM fitting and predicting completed\n"
     ]
    },
    {
     "name": "stderr",
     "output_type": "stream",
     "text": [
      "INFO:optuna.study:Trial 14 finished with value: 0.9338995131310304 and parameters: {'feature_fraction': 0.5982402802070008, 'num_leaves': 188, 'bagging_fraction': 0.7238774295032728, 'min_sum_hessian_in_leaf': 0.034726201518616565, 'reg_alpha': 0.23866132788588826, 'reg_lambda': 6.684907419672024}. Best is trial 8 with value: 0.9341290817067954.\n"
     ]
    },
    {
     "name": "stdout",
     "output_type": "stream",
     "text": [
      "Start fitting Lvl_0_Pipe_1_Mod_1_LightGBM ...\n",
      "\n",
      "===== Start working with fold 0 for Lvl_0_Pipe_1_Mod_1_LightGBM =====\n",
      "\n",
      "Training until validation scores don't improve for 100 rounds\n",
      "[100]\tvalid's auc: 0.933181\n",
      "[200]\tvalid's auc: 0.93374\n",
      "[300]\tvalid's auc: 0.933785\n",
      "[400]\tvalid's auc: 0.93395\n",
      "[500]\tvalid's auc: 0.934051\n",
      "[600]\tvalid's auc: 0.933967\n",
      "Early stopping, best iteration is:\n",
      "[545]\tvalid's auc: 0.934062\n",
      "Lvl_0_Pipe_1_Mod_1_LightGBM fitting and predicting completed\n"
     ]
    },
    {
     "name": "stderr",
     "output_type": "stream",
     "text": [
      "INFO:optuna.study:Trial 15 finished with value: 0.9340620648140912 and parameters: {'feature_fraction': 0.8252288756597426, 'num_leaves': 100, 'bagging_fraction': 0.9328856998984195, 'min_sum_hessian_in_leaf': 2.906742716998493, 'reg_alpha': 8.673726994905894e-05, 'reg_lambda': 0.015382508042333834}. Best is trial 8 with value: 0.9341290817067954.\n"
     ]
    },
    {
     "name": "stdout",
     "output_type": "stream",
     "text": [
      "Start fitting Lvl_0_Pipe_1_Mod_1_LightGBM ...\n",
      "\n",
      "===== Start working with fold 0 for Lvl_0_Pipe_1_Mod_1_LightGBM =====\n",
      "\n",
      "Training until validation scores don't improve for 100 rounds\n",
      "[100]\tvalid's auc: 0.933146\n",
      "[200]\tvalid's auc: 0.933753\n",
      "[300]\tvalid's auc: 0.933936\n",
      "[400]\tvalid's auc: 0.93395\n",
      "Early stopping, best iteration is:\n",
      "[337]\tvalid's auc: 0.934017\n",
      "Lvl_0_Pipe_1_Mod_1_LightGBM fitting and predicting completed\n"
     ]
    },
    {
     "name": "stderr",
     "output_type": "stream",
     "text": [
      "INFO:optuna.study:Trial 16 finished with value: 0.934016838001241 and parameters: {'feature_fraction': 0.8182550698311287, 'num_leaves': 105, 'bagging_fraction': 0.9399063224431738, 'min_sum_hessian_in_leaf': 9.403319551199754, 'reg_alpha': 0.00019949970708564203, 'reg_lambda': 0.012182416818763602}. Best is trial 8 with value: 0.9341290817067954.\n"
     ]
    },
    {
     "name": "stdout",
     "output_type": "stream",
     "text": [
      "Start fitting Lvl_0_Pipe_1_Mod_1_LightGBM ...\n",
      "\n",
      "===== Start working with fold 0 for Lvl_0_Pipe_1_Mod_1_LightGBM =====\n",
      "\n",
      "Training until validation scores don't improve for 100 rounds\n",
      "[100]\tvalid's auc: 0.931661\n",
      "[200]\tvalid's auc: 0.932844\n",
      "[300]\tvalid's auc: 0.933141\n",
      "[400]\tvalid's auc: 0.933332\n",
      "[500]\tvalid's auc: 0.933517\n",
      "[600]\tvalid's auc: 0.933605\n",
      "[700]\tvalid's auc: 0.933648\n",
      "[800]\tvalid's auc: 0.933705\n",
      "[900]\tvalid's auc: 0.93377\n",
      "[1000]\tvalid's auc: 0.933785\n",
      "Early stopping, best iteration is:\n",
      "[934]\tvalid's auc: 0.933803\n",
      "Lvl_0_Pipe_1_Mod_1_LightGBM fitting and predicting completed\n"
     ]
    },
    {
     "name": "stderr",
     "output_type": "stream",
     "text": [
      "INFO:optuna.study:Trial 17 finished with value: 0.933802713608771 and parameters: {'feature_fraction': 0.8607093776672629, 'num_leaves': 16, 'bagging_fraction': 0.9352837665178367, 'min_sum_hessian_in_leaf': 2.8288040082093486, 'reg_alpha': 0.0036977137267788928, 'reg_lambda': 0.023160626719843654}. Best is trial 8 with value: 0.9341290817067954.\n"
     ]
    },
    {
     "name": "stdout",
     "output_type": "stream",
     "text": [
      "Start fitting Lvl_0_Pipe_1_Mod_1_LightGBM ...\n",
      "\n",
      "===== Start working with fold 0 for Lvl_0_Pipe_1_Mod_1_LightGBM =====\n",
      "\n",
      "Training until validation scores don't improve for 100 rounds\n",
      "[100]\tvalid's auc: 0.933042\n",
      "[200]\tvalid's auc: 0.933509\n",
      "[300]\tvalid's auc: 0.933549\n",
      "[400]\tvalid's auc: 0.933614\n",
      "[500]\tvalid's auc: 0.933695\n",
      "[600]\tvalid's auc: 0.933616\n",
      "Early stopping, best iteration is:\n",
      "[509]\tvalid's auc: 0.933729\n",
      "Lvl_0_Pipe_1_Mod_1_LightGBM fitting and predicting completed\n"
     ]
    },
    {
     "name": "stderr",
     "output_type": "stream",
     "text": [
      "INFO:optuna.study:Trial 18 finished with value: 0.9337294130832319 and parameters: {'feature_fraction': 0.9649553879622852, 'num_leaves': 88, 'bagging_fraction': 0.9683168501234709, 'min_sum_hessian_in_leaf': 2.542337931817775, 'reg_alpha': 3.3813370668465495e-05, 'reg_lambda': 0.005808008005273329}. Best is trial 8 with value: 0.9341290817067954.\n"
     ]
    },
    {
     "name": "stdout",
     "output_type": "stream",
     "text": [
      "Start fitting Lvl_0_Pipe_1_Mod_1_LightGBM ...\n",
      "\n",
      "===== Start working with fold 0 for Lvl_0_Pipe_1_Mod_1_LightGBM =====\n",
      "\n",
      "Training until validation scores don't improve for 100 rounds\n",
      "[100]\tvalid's auc: 0.933243\n",
      "[200]\tvalid's auc: 0.93377\n",
      "[300]\tvalid's auc: 0.933894\n",
      "Early stopping, best iteration is:\n",
      "[290]\tvalid's auc: 0.933914\n",
      "Lvl_0_Pipe_1_Mod_1_LightGBM fitting and predicting completed\n"
     ]
    },
    {
     "name": "stderr",
     "output_type": "stream",
     "text": [
      "INFO:optuna.study:Trial 19 finished with value: 0.9339142990978098 and parameters: {'feature_fraction': 0.7899019527608279, 'num_leaves': 144, 'bagging_fraction': 0.9036160582635028, 'min_sum_hessian_in_leaf': 0.191137067798127, 'reg_alpha': 0.8644403270079946, 'reg_lambda': 0.5099935913014406}. Best is trial 8 with value: 0.9341290817067954.\n"
     ]
    },
    {
     "name": "stdout",
     "output_type": "stream",
     "text": [
      "Start fitting Lvl_0_Pipe_1_Mod_1_LightGBM ...\n",
      "\n",
      "===== Start working with fold 0 for Lvl_0_Pipe_1_Mod_1_LightGBM =====\n",
      "\n",
      "Training until validation scores don't improve for 100 rounds\n",
      "[100]\tvalid's auc: 0.932778\n",
      "[200]\tvalid's auc: 0.93347\n",
      "[300]\tvalid's auc: 0.933645\n",
      "[400]\tvalid's auc: 0.933748\n",
      "[500]\tvalid's auc: 0.93377\n",
      "[600]\tvalid's auc: 0.933848\n",
      "[700]\tvalid's auc: 0.933913\n",
      "[800]\tvalid's auc: 0.93392\n",
      "Early stopping, best iteration is:\n",
      "[751]\tvalid's auc: 0.933965\n",
      "Lvl_0_Pipe_1_Mod_1_LightGBM fitting and predicting completed\n"
     ]
    },
    {
     "name": "stderr",
     "output_type": "stream",
     "text": [
      "INFO:optuna.study:Trial 20 finished with value: 0.9339645853941978 and parameters: {'feature_fraction': 0.8753635542101719, 'num_leaves': 46, 'bagging_fraction': 0.9970023275843807, 'min_sum_hessian_in_leaf': 0.03450840993868498, 'reg_alpha': 0.02357823818259026, 'reg_lambda': 0.9024935250579662}. Best is trial 8 with value: 0.9341290817067954.\n"
     ]
    },
    {
     "name": "stdout",
     "output_type": "stream",
     "text": [
      "Start fitting Lvl_0_Pipe_1_Mod_1_LightGBM ...\n",
      "\n",
      "===== Start working with fold 0 for Lvl_0_Pipe_1_Mod_1_LightGBM =====\n",
      "\n",
      "Training until validation scores don't improve for 100 rounds\n",
      "[100]\tvalid's auc: 0.933176\n",
      "[200]\tvalid's auc: 0.933747\n",
      "[300]\tvalid's auc: 0.933928\n",
      "[400]\tvalid's auc: 0.933984\n",
      "[500]\tvalid's auc: 0.934016\n",
      "[600]\tvalid's auc: 0.933976\n",
      "Early stopping, best iteration is:\n",
      "[553]\tvalid's auc: 0.934037\n",
      "Lvl_0_Pipe_1_Mod_1_LightGBM fitting and predicting completed\n"
     ]
    },
    {
     "name": "stderr",
     "output_type": "stream",
     "text": [
      "INFO:optuna.study:Trial 21 finished with value: 0.9340372093576597 and parameters: {'feature_fraction': 0.7698618503524449, 'num_leaves': 100, 'bagging_fraction': 0.9406732183853934, 'min_sum_hessian_in_leaf': 9.824074302574049, 'reg_alpha': 0.00034541959128253874, 'reg_lambda': 0.005153148804988277}. Best is trial 8 with value: 0.9341290817067954.\n"
     ]
    },
    {
     "name": "stdout",
     "output_type": "stream",
     "text": [
      "Start fitting Lvl_0_Pipe_1_Mod_1_LightGBM ...\n",
      "\n",
      "===== Start working with fold 0 for Lvl_0_Pipe_1_Mod_1_LightGBM =====\n",
      "\n",
      "Training until validation scores don't improve for 100 rounds\n",
      "[100]\tvalid's auc: 0.933374\n",
      "[200]\tvalid's auc: 0.933818\n",
      "[300]\tvalid's auc: 0.93396\n",
      "[400]\tvalid's auc: 0.934013\n",
      "[500]\tvalid's auc: 0.934037\n",
      "[600]\tvalid's auc: 0.933998\n",
      "Early stopping, best iteration is:\n",
      "[521]\tvalid's auc: 0.934058\n",
      "\n",
      "===== Start working with fold 1 for Lvl_0_Pipe_1_Mod_1_LightGBM =====\n",
      "\n",
      "Training until validation scores don't improve for 100 rounds\n",
      "[100]\tvalid's auc: 0.933123\n",
      "[200]\tvalid's auc: 0.933489\n",
      "[300]\tvalid's auc: 0.93364\n",
      "[400]\tvalid's auc: 0.933718\n",
      "[500]\tvalid's auc: 0.933682\n",
      "Early stopping, best iteration is:\n",
      "[467]\tvalid's auc: 0.933742\n",
      "\n",
      "===== Start working with fold 2 for Lvl_0_Pipe_1_Mod_1_LightGBM =====\n",
      "\n",
      "Training until validation scores don't improve for 100 rounds\n",
      "[100]\tvalid's auc: 0.932801\n",
      "[200]\tvalid's auc: 0.933239\n",
      "[300]\tvalid's auc: 0.933357\n",
      "[400]\tvalid's auc: 0.933467\n",
      "[500]\tvalid's auc: 0.933521\n",
      "[600]\tvalid's auc: 0.933473\n",
      "Early stopping, best iteration is:\n",
      "[501]\tvalid's auc: 0.933524\n",
      "\n",
      "===== Start working with fold 3 for Lvl_0_Pipe_1_Mod_1_LightGBM =====\n",
      "\n",
      "Training until validation scores don't improve for 100 rounds\n",
      "[100]\tvalid's auc: 0.9332\n",
      "[200]\tvalid's auc: 0.933655\n",
      "[300]\tvalid's auc: 0.933662\n",
      "[400]\tvalid's auc: 0.933769\n",
      "[500]\tvalid's auc: 0.933816\n",
      "Early stopping, best iteration is:\n",
      "[471]\tvalid's auc: 0.933847\n",
      "\n",
      "===== Start working with fold 4 for Lvl_0_Pipe_1_Mod_1_LightGBM =====\n",
      "\n",
      "Training until validation scores don't improve for 100 rounds\n",
      "[100]\tvalid's auc: 0.927869\n",
      "Early stopping, best iteration is:\n",
      "[4]\tvalid's auc: 0.928338\n",
      "Lvl_0_Pipe_1_Mod_1_LightGBM fitting and predicting completed\n",
      "Start fitting Lvl_0_Pipe_1_Mod_2_CatBoost ...\n",
      "\n",
      "===== Start working with fold 0 for Lvl_0_Pipe_1_Mod_2_CatBoost =====\n",
      "\n",
      "0:\ttest: 0.9158174\tbest: 0.9158174 (0)\ttotal: 37.9ms\tremaining: 1m 15s\n",
      "100:\ttest: 0.9303296\tbest: 0.9303296 (100)\ttotal: 4.12s\tremaining: 1m 17s\n",
      "200:\ttest: 0.9314957\tbest: 0.9314957 (200)\ttotal: 8.04s\tremaining: 1m 11s\n",
      "300:\ttest: 0.9321668\tbest: 0.9321668 (300)\ttotal: 12s\tremaining: 1m 7s\n",
      "400:\ttest: 0.9326022\tbest: 0.9326022 (400)\ttotal: 15.9s\tremaining: 1m 3s\n",
      "500:\ttest: 0.9329115\tbest: 0.9329115 (500)\ttotal: 19.9s\tremaining: 59.6s\n",
      "600:\ttest: 0.9330687\tbest: 0.9330707 (598)\ttotal: 23.9s\tremaining: 55.5s\n",
      "700:\ttest: 0.9332836\tbest: 0.9332840 (699)\ttotal: 27.8s\tremaining: 51.4s\n",
      "800:\ttest: 0.9334054\tbest: 0.9334073 (798)\ttotal: 31.7s\tremaining: 47.4s\n",
      "900:\ttest: 0.9334808\tbest: 0.9334866 (885)\ttotal: 35.6s\tremaining: 43.4s\n",
      "1000:\ttest: 0.9335618\tbest: 0.9335618 (1000)\ttotal: 39.5s\tremaining: 39.4s\n",
      "1100:\ttest: 0.9335946\tbest: 0.9336001 (1082)\ttotal: 43.3s\tremaining: 35.4s\n",
      "1200:\ttest: 0.9336611\tbest: 0.9336676 (1184)\ttotal: 47.2s\tremaining: 31.4s\n",
      "1300:\ttest: 0.9337301\tbest: 0.9337301 (1300)\ttotal: 51.2s\tremaining: 27.5s\n",
      "1400:\ttest: 0.9337749\tbest: 0.9337762 (1399)\ttotal: 55.1s\tremaining: 23.6s\n",
      "1500:\ttest: 0.9338062\tbest: 0.9338069 (1459)\ttotal: 59s\tremaining: 19.6s\n",
      "1600:\ttest: 0.9338390\tbest: 0.9338586 (1573)\ttotal: 1m 2s\tremaining: 15.7s\n",
      "Stopped by overfitting detector  (100 iterations wait)\n",
      "\n",
      "bestTest = 0.9338585697\n",
      "bestIteration = 1573\n",
      "\n",
      "Shrink model to first 1574 iterations.\n",
      "\n",
      "===== Start working with fold 1 for Lvl_0_Pipe_1_Mod_2_CatBoost =====\n",
      "\n",
      "0:\ttest: 0.9156299\tbest: 0.9156299 (0)\ttotal: 36.3ms\tremaining: 1m 12s\n",
      "100:\ttest: 0.9303333\tbest: 0.9303333 (100)\ttotal: 4.3s\tremaining: 1m 20s\n",
      "200:\ttest: 0.9316887\tbest: 0.9316887 (200)\ttotal: 8.25s\tremaining: 1m 13s\n",
      "300:\ttest: 0.9322147\tbest: 0.9322147 (300)\ttotal: 12.1s\tremaining: 1m 8s\n",
      "400:\ttest: 0.9327653\tbest: 0.9327653 (400)\ttotal: 16s\tremaining: 1m 3s\n",
      "500:\ttest: 0.9330386\tbest: 0.9330408 (499)\ttotal: 20s\tremaining: 59.7s\n",
      "600:\ttest: 0.9332156\tbest: 0.9332217 (596)\ttotal: 23.9s\tremaining: 55.6s\n",
      "700:\ttest: 0.9333388\tbest: 0.9333388 (700)\ttotal: 27.8s\tremaining: 51.5s\n",
      "800:\ttest: 0.9334129\tbest: 0.9334129 (800)\ttotal: 31.7s\tremaining: 47.5s\n",
      "900:\ttest: 0.9334134\tbest: 0.9334268 (879)\ttotal: 35.7s\tremaining: 43.5s\n",
      "1000:\ttest: 0.9334831\tbest: 0.9334878 (999)\ttotal: 39.6s\tremaining: 39.5s\n",
      "1100:\ttest: 0.9334923\tbest: 0.9335001 (1082)\ttotal: 43.6s\tremaining: 35.6s\n",
      "1200:\ttest: 0.9335208\tbest: 0.9335223 (1199)\ttotal: 47.4s\tremaining: 31.5s\n",
      "1300:\ttest: 0.9335916\tbest: 0.9335939 (1277)\ttotal: 51.4s\tremaining: 27.6s\n",
      "1400:\ttest: 0.9335909\tbest: 0.9335953 (1302)\ttotal: 55.2s\tremaining: 23.6s\n",
      "Stopped by overfitting detector  (100 iterations wait)\n",
      "\n",
      "bestTest = 0.9335953181\n",
      "bestIteration = 1302\n",
      "\n",
      "Shrink model to first 1303 iterations.\n",
      "\n",
      "===== Start working with fold 2 for Lvl_0_Pipe_1_Mod_2_CatBoost =====\n",
      "\n",
      "0:\ttest: 0.9151074\tbest: 0.9151074 (0)\ttotal: 36.2ms\tremaining: 1m 12s\n",
      "100:\ttest: 0.9302476\tbest: 0.9302476 (100)\ttotal: 4.22s\tremaining: 1m 19s\n",
      "200:\ttest: 0.9313815\tbest: 0.9313815 (200)\ttotal: 8.2s\tremaining: 1m 13s\n",
      "300:\ttest: 0.9319919\tbest: 0.9319919 (300)\ttotal: 12s\tremaining: 1m 7s\n",
      "400:\ttest: 0.9323924\tbest: 0.9323948 (399)\ttotal: 15.9s\tremaining: 1m 3s\n",
      "500:\ttest: 0.9325977\tbest: 0.9326008 (499)\ttotal: 20s\tremaining: 59.9s\n",
      "600:\ttest: 0.9327155\tbest: 0.9327155 (600)\ttotal: 23.9s\tremaining: 55.6s\n",
      "700:\ttest: 0.9328334\tbest: 0.9328362 (696)\ttotal: 27.8s\tremaining: 51.5s\n",
      "800:\ttest: 0.9329522\tbest: 0.9329530 (798)\ttotal: 31.8s\tremaining: 47.5s\n",
      "900:\ttest: 0.9330377\tbest: 0.9330419 (894)\ttotal: 35.6s\tremaining: 43.4s\n",
      "1000:\ttest: 0.9330930\tbest: 0.9330938 (998)\ttotal: 39.4s\tremaining: 39.3s\n",
      "1100:\ttest: 0.9331679\tbest: 0.9331794 (1060)\ttotal: 43.3s\tremaining: 35.4s\n",
      "1200:\ttest: 0.9331932\tbest: 0.9331938 (1167)\ttotal: 47.2s\tremaining: 31.4s\n",
      "1300:\ttest: 0.9332309\tbest: 0.9332351 (1285)\ttotal: 51.1s\tremaining: 27.5s\n",
      "1400:\ttest: 0.9332557\tbest: 0.9332597 (1398)\ttotal: 55s\tremaining: 23.5s\n",
      "1500:\ttest: 0.9332951\tbest: 0.9332951 (1500)\ttotal: 58.9s\tremaining: 19.6s\n",
      "1600:\ttest: 0.9332851\tbest: 0.9333033 (1521)\ttotal: 1m 2s\tremaining: 15.6s\n",
      "Stopped by overfitting detector  (100 iterations wait)\n",
      "\n",
      "bestTest = 0.9333032968\n",
      "bestIteration = 1521\n",
      "\n",
      "Shrink model to first 1522 iterations.\n",
      "\n",
      "===== Start working with fold 3 for Lvl_0_Pipe_1_Mod_2_CatBoost =====\n",
      "\n",
      "0:\ttest: 0.9164773\tbest: 0.9164773 (0)\ttotal: 36ms\tremaining: 1m 11s\n",
      "100:\ttest: 0.9306605\tbest: 0.9306605 (100)\ttotal: 4.22s\tremaining: 1m 19s\n",
      "200:\ttest: 0.9316913\tbest: 0.9316913 (200)\ttotal: 8.04s\tremaining: 1m 11s\n",
      "300:\ttest: 0.9322032\tbest: 0.9322032 (300)\ttotal: 12s\tremaining: 1m 7s\n",
      "400:\ttest: 0.9326673\tbest: 0.9326673 (400)\ttotal: 15.8s\tremaining: 1m 3s\n",
      "500:\ttest: 0.9328946\tbest: 0.9328946 (500)\ttotal: 19.8s\tremaining: 59.2s\n",
      "600:\ttest: 0.9330719\tbest: 0.9330734 (599)\ttotal: 23.7s\tremaining: 55.1s\n",
      "700:\ttest: 0.9331471\tbest: 0.9331471 (700)\ttotal: 27.6s\tremaining: 51.1s\n",
      "800:\ttest: 0.9332176\tbest: 0.9332322 (797)\ttotal: 31.5s\tremaining: 47.2s\n",
      "900:\ttest: 0.9332547\tbest: 0.9332618 (868)\ttotal: 35.5s\tremaining: 43.3s\n",
      "1000:\ttest: 0.9332608\tbest: 0.9332846 (930)\ttotal: 39.4s\tremaining: 39.3s\n",
      "1100:\ttest: 0.9333068\tbest: 0.9333089 (1074)\ttotal: 43.2s\tremaining: 35.3s\n",
      "1200:\ttest: 0.9333238\tbest: 0.9333353 (1190)\ttotal: 47.7s\tremaining: 31.7s\n",
      "Stopped by overfitting detector  (100 iterations wait)\n",
      "\n",
      "bestTest = 0.9333352542\n",
      "bestIteration = 1190\n",
      "\n",
      "Shrink model to first 1191 iterations.\n",
      "\n",
      "===== Start working with fold 4 for Lvl_0_Pipe_1_Mod_2_CatBoost =====\n",
      "\n",
      "0:\ttest: 0.8945636\tbest: 0.8945636 (0)\ttotal: 52.5ms\tremaining: 1m 45s\n",
      "100:\ttest: 0.9287786\tbest: 0.9287786 (100)\ttotal: 4.47s\tremaining: 1m 24s\n",
      "200:\ttest: 0.9296665\tbest: 0.9297736 (168)\ttotal: 8.25s\tremaining: 1m 13s\n",
      "300:\ttest: 0.9299156\tbest: 0.9299156 (300)\ttotal: 12.2s\tremaining: 1m 8s\n",
      "400:\ttest: 0.9297546\tbest: 0.9299673 (308)\ttotal: 15.9s\tremaining: 1m 3s\n",
      "Stopped by overfitting detector  (100 iterations wait)\n",
      "\n",
      "bestTest = 0.9299673268\n",
      "bestIteration = 308\n",
      "\n",
      "Shrink model to first 309 iterations.\n",
      "Lvl_0_Pipe_1_Mod_2_CatBoost fitting and predicting completed\n",
      "Optuna may run 1454.0589369058607 secs\n"
     ]
    },
    {
     "name": "stderr",
     "output_type": "stream",
     "text": [
      "INFO:optuna.storages._in_memory:A new study created in memory with name: no-name-c77d33b2-32ab-4239-b13e-654f4b4ee245\n"
     ]
    },
    {
     "name": "stdout",
     "output_type": "stream",
     "text": [
      "Start fitting Lvl_0_Pipe_1_Mod_3_CatBoost ...\n",
      "\n",
      "===== Start working with fold 0 for Lvl_0_Pipe_1_Mod_3_CatBoost =====\n",
      "\n",
      "0:\ttest: 0.9117982\tbest: 0.9117982 (0)\ttotal: 35.1ms\tremaining: 1m 10s\n",
      "100:\ttest: 0.9293515\tbest: 0.9293515 (100)\ttotal: 4.05s\tremaining: 1m 16s\n",
      "200:\ttest: 0.9308991\tbest: 0.9308991 (200)\ttotal: 7.69s\tremaining: 1m 8s\n",
      "300:\ttest: 0.9316393\tbest: 0.9316393 (300)\ttotal: 11.4s\tremaining: 1m 4s\n",
      "400:\ttest: 0.9320794\tbest: 0.9320817 (399)\ttotal: 15.1s\tremaining: 1m\n",
      "500:\ttest: 0.9324069\tbest: 0.9324069 (500)\ttotal: 18.9s\tremaining: 56.5s\n",
      "600:\ttest: 0.9326990\tbest: 0.9326990 (600)\ttotal: 22.6s\tremaining: 52.6s\n",
      "700:\ttest: 0.9328648\tbest: 0.9328648 (700)\ttotal: 26.3s\tremaining: 48.8s\n",
      "800:\ttest: 0.9330189\tbest: 0.9330237 (795)\ttotal: 30.1s\tremaining: 45.1s\n",
      "900:\ttest: 0.9331503\tbest: 0.9331511 (899)\ttotal: 33.9s\tremaining: 41.3s\n",
      "1000:\ttest: 0.9332776\tbest: 0.9332779 (998)\ttotal: 37.5s\tremaining: 37.4s\n",
      "1100:\ttest: 0.9333485\tbest: 0.9333486 (1092)\ttotal: 41.2s\tremaining: 33.6s\n",
      "1200:\ttest: 0.9334369\tbest: 0.9334369 (1200)\ttotal: 45s\tremaining: 29.9s\n",
      "1300:\ttest: 0.9335049\tbest: 0.9335049 (1300)\ttotal: 48.8s\tremaining: 26.2s\n",
      "1400:\ttest: 0.9335542\tbest: 0.9335542 (1400)\ttotal: 52.5s\tremaining: 22.4s\n",
      "1500:\ttest: 0.9335957\tbest: 0.9335957 (1500)\ttotal: 56.2s\tremaining: 18.7s\n",
      "1600:\ttest: 0.9336391\tbest: 0.9336395 (1598)\ttotal: 59.9s\tremaining: 14.9s\n",
      "1700:\ttest: 0.9336747\tbest: 0.9336747 (1700)\ttotal: 1m 3s\tremaining: 11.2s\n",
      "1800:\ttest: 0.9336762\tbest: 0.9336816 (1795)\ttotal: 1m 7s\tremaining: 7.44s\n",
      "1900:\ttest: 0.9336481\tbest: 0.9337134 (1882)\ttotal: 1m 11s\tremaining: 3.7s\n",
      "Stopped by overfitting detector  (100 iterations wait)\n",
      "\n",
      "bestTest = 0.9337133741\n",
      "bestIteration = 1882\n",
      "\n",
      "Shrink model to first 1883 iterations.\n",
      "Lvl_0_Pipe_1_Mod_3_CatBoost fitting and predicting completed\n"
     ]
    },
    {
     "name": "stderr",
     "output_type": "stream",
     "text": [
      "INFO:optuna.study:Trial 0 finished with value: 0.93371337517085 and parameters: {'max_depth': 4, 'l2_leaf_reg': 3.6010467344475403, 'min_data_in_leaf': 15}. Best is trial 0 with value: 0.93371337517085.\n"
     ]
    },
    {
     "name": "stdout",
     "output_type": "stream",
     "text": [
      "Start fitting Lvl_0_Pipe_1_Mod_3_CatBoost ...\n",
      "\n",
      "===== Start working with fold 0 for Lvl_0_Pipe_1_Mod_3_CatBoost =====\n",
      "\n",
      "0:\ttest: 0.9158174\tbest: 0.9158174 (0)\ttotal: 36.4ms\tremaining: 1m 12s\n",
      "100:\ttest: 0.9302987\tbest: 0.9302987 (100)\ttotal: 4.29s\tremaining: 1m 20s\n",
      "200:\ttest: 0.9316083\tbest: 0.9316083 (200)\ttotal: 8.06s\tremaining: 1m 12s\n",
      "300:\ttest: 0.9322411\tbest: 0.9322426 (299)\ttotal: 11.9s\tremaining: 1m 7s\n",
      "400:\ttest: 0.9327233\tbest: 0.9327233 (400)\ttotal: 15.8s\tremaining: 1m 2s\n",
      "500:\ttest: 0.9330040\tbest: 0.9330040 (500)\ttotal: 19.5s\tremaining: 58.4s\n",
      "600:\ttest: 0.9331434\tbest: 0.9331474 (598)\ttotal: 23.4s\tremaining: 54.5s\n",
      "700:\ttest: 0.9327300\tbest: 0.9332299 (656)\ttotal: 27.3s\tremaining: 50.5s\n",
      "Stopped by overfitting detector  (100 iterations wait)\n",
      "\n",
      "bestTest = 0.933229884\n",
      "bestIteration = 656\n",
      "\n",
      "Shrink model to first 657 iterations.\n",
      "Lvl_0_Pipe_1_Mod_3_CatBoost fitting and predicting completed\n"
     ]
    },
    {
     "name": "stderr",
     "output_type": "stream",
     "text": [
      "INFO:optuna.study:Trial 1 finished with value: 0.9332298845641668 and parameters: {'max_depth': 5, 'l2_leaf_reg': 2.5361081166471375e-07, 'min_data_in_leaf': 4}. Best is trial 0 with value: 0.93371337517085.\n"
     ]
    },
    {
     "name": "stdout",
     "output_type": "stream",
     "text": [
      "Start fitting Lvl_0_Pipe_1_Mod_3_CatBoost ...\n",
      "\n",
      "===== Start working with fold 0 for Lvl_0_Pipe_1_Mod_3_CatBoost =====\n",
      "\n",
      "0:\ttest: 0.9072753\tbest: 0.9072753 (0)\ttotal: 29.1ms\tremaining: 58.2s\n",
      "100:\ttest: 0.9279361\tbest: 0.9279361 (100)\ttotal: 3.65s\tremaining: 1m 8s\n",
      "200:\ttest: 0.9297446\tbest: 0.9297446 (200)\ttotal: 7.11s\tremaining: 1m 3s\n",
      "300:\ttest: 0.9305330\tbest: 0.9305330 (300)\ttotal: 10.6s\tremaining: 1m\n",
      "400:\ttest: 0.9310557\tbest: 0.9310570 (399)\ttotal: 13.9s\tremaining: 55.2s\n",
      "500:\ttest: 0.9314071\tbest: 0.9314071 (500)\ttotal: 17.1s\tremaining: 51.1s\n",
      "600:\ttest: 0.9316696\tbest: 0.9316696 (600)\ttotal: 20.3s\tremaining: 47.3s\n",
      "700:\ttest: 0.9319570\tbest: 0.9319570 (700)\ttotal: 23.5s\tremaining: 43.5s\n",
      "800:\ttest: 0.9321776\tbest: 0.9321776 (800)\ttotal: 26.6s\tremaining: 39.9s\n",
      "900:\ttest: 0.9323429\tbest: 0.9323429 (900)\ttotal: 29.8s\tremaining: 36.3s\n",
      "1000:\ttest: 0.9325026\tbest: 0.9325026 (1000)\ttotal: 33s\tremaining: 32.9s\n",
      "1100:\ttest: 0.9326488\tbest: 0.9326497 (1099)\ttotal: 36.3s\tremaining: 29.7s\n",
      "1200:\ttest: 0.9327633\tbest: 0.9327647 (1195)\ttotal: 39.5s\tremaining: 26.3s\n",
      "1300:\ttest: 0.9328504\tbest: 0.9328504 (1300)\ttotal: 42.7s\tremaining: 23s\n",
      "1400:\ttest: 0.9329386\tbest: 0.9329386 (1397)\ttotal: 45.9s\tremaining: 19.6s\n",
      "1500:\ttest: 0.9330222\tbest: 0.9330222 (1500)\ttotal: 49.1s\tremaining: 16.3s\n",
      "1600:\ttest: 0.9330982\tbest: 0.9331021 (1596)\ttotal: 52.2s\tremaining: 13s\n",
      "1700:\ttest: 0.9331641\tbest: 0.9331658 (1692)\ttotal: 55.4s\tremaining: 9.74s\n",
      "1800:\ttest: 0.9331902\tbest: 0.9331902 (1800)\ttotal: 58.6s\tremaining: 6.47s\n",
      "1900:\ttest: 0.9332241\tbest: 0.9332241 (1900)\ttotal: 1m 2s\tremaining: 3.24s\n",
      "1999:\ttest: 0.9332607\tbest: 0.9332613 (1996)\ttotal: 1m 5s\tremaining: 0us\n",
      "\n",
      "bestTest = 0.9332612833\n",
      "bestIteration = 1996\n",
      "\n",
      "Shrink model to first 1997 iterations.\n",
      "Lvl_0_Pipe_1_Mod_3_CatBoost fitting and predicting completed\n"
     ]
    },
    {
     "name": "stderr",
     "output_type": "stream",
     "text": [
      "INFO:optuna.study:Trial 2 finished with value: 0.9332612827150009 and parameters: {'max_depth': 3, 'l2_leaf_reg': 0.6245760287469893, 'min_data_in_leaf': 13}. Best is trial 0 with value: 0.93371337517085.\n"
     ]
    },
    {
     "name": "stdout",
     "output_type": "stream",
     "text": [
      "Start fitting Lvl_0_Pipe_1_Mod_3_CatBoost ...\n",
      "\n",
      "===== Start working with fold 0 for Lvl_0_Pipe_1_Mod_3_CatBoost =====\n",
      "\n",
      "0:\ttest: 0.9191632\tbest: 0.9191632 (0)\ttotal: 40.1ms\tremaining: 1m 20s\n",
      "100:\ttest: 0.9289804\tbest: 0.9309955 (99)\ttotal: 5.02s\tremaining: 1m 34s\n",
      "Stopped by overfitting detector  (100 iterations wait)\n",
      "\n",
      "bestTest = 0.9309955125\n",
      "bestIteration = 99\n",
      "\n",
      "Shrink model to first 100 iterations.\n",
      "Lvl_0_Pipe_1_Mod_3_CatBoost fitting and predicting completed\n"
     ]
    },
    {
     "name": "stderr",
     "output_type": "stream",
     "text": [
      "INFO:optuna.study:Trial 3 finished with value: 0.9309955130091713 and parameters: {'max_depth': 6, 'l2_leaf_reg': 1.5320059381854043e-08, 'min_data_in_leaf': 20}. Best is trial 0 with value: 0.93371337517085.\n"
     ]
    },
    {
     "name": "stdout",
     "output_type": "stream",
     "text": [
      "Start fitting Lvl_0_Pipe_1_Mod_3_CatBoost ...\n",
      "\n",
      "===== Start working with fold 0 for Lvl_0_Pipe_1_Mod_3_CatBoost =====\n",
      "\n",
      "0:\ttest: 0.9191574\tbest: 0.9191574 (0)\ttotal: 53.9ms\tremaining: 1m 47s\n",
      "100:\ttest: 0.9314533\tbest: 0.9314533 (100)\ttotal: 4.99s\tremaining: 1m 33s\n",
      "200:\ttest: 0.9323427\tbest: 0.9323516 (199)\ttotal: 9.69s\tremaining: 1m 26s\n",
      "300:\ttest: 0.9326065\tbest: 0.9326065 (300)\ttotal: 14.5s\tremaining: 1m 21s\n",
      "400:\ttest: 0.9327119\tbest: 0.9327157 (395)\ttotal: 19.4s\tremaining: 1m 17s\n",
      "500:\ttest: 0.9328456\tbest: 0.9328647 (475)\ttotal: 24.4s\tremaining: 1m 12s\n",
      "600:\ttest: 0.9329537\tbest: 0.9329580 (598)\ttotal: 30s\tremaining: 1m 9s\n",
      "Stopped by overfitting detector  (100 iterations wait)\n",
      "\n",
      "bestTest = 0.9329579639\n",
      "bestIteration = 598\n",
      "\n",
      "Shrink model to first 599 iterations.\n",
      "Lvl_0_Pipe_1_Mod_3_CatBoost fitting and predicting completed\n"
     ]
    },
    {
     "name": "stderr",
     "output_type": "stream",
     "text": [
      "INFO:optuna.study:Trial 4 finished with value: 0.9329579644253987 and parameters: {'max_depth': 7, 'l2_leaf_reg': 8.148018307012941e-07, 'min_data_in_leaf': 4}. Best is trial 0 with value: 0.93371337517085.\n"
     ]
    },
    {
     "name": "stdout",
     "output_type": "stream",
     "text": [
      "Start fitting Lvl_0_Pipe_1_Mod_3_CatBoost ...\n",
      "\n",
      "===== Start working with fold 0 for Lvl_0_Pipe_1_Mod_3_CatBoost =====\n",
      "\n",
      "0:\ttest: 0.9072753\tbest: 0.9072753 (0)\ttotal: 88.8ms\tremaining: 2m 57s\n",
      "100:\ttest: 0.9281228\tbest: 0.9281228 (100)\ttotal: 3.85s\tremaining: 1m 12s\n",
      "200:\ttest: 0.9297906\tbest: 0.9297906 (200)\ttotal: 7.14s\tremaining: 1m 3s\n",
      "300:\ttest: 0.9306455\tbest: 0.9306455 (300)\ttotal: 10.3s\tremaining: 58.4s\n",
      "400:\ttest: 0.9311983\tbest: 0.9311994 (399)\ttotal: 13.7s\tremaining: 54.4s\n",
      "500:\ttest: 0.9315647\tbest: 0.9315647 (500)\ttotal: 16.9s\tremaining: 50.6s\n",
      "600:\ttest: 0.9318698\tbest: 0.9318698 (600)\ttotal: 20.1s\tremaining: 46.7s\n",
      "700:\ttest: 0.9321064\tbest: 0.9321072 (698)\ttotal: 23.2s\tremaining: 43s\n",
      "800:\ttest: 0.9323528\tbest: 0.9323528 (800)\ttotal: 26.4s\tremaining: 39.5s\n",
      "900:\ttest: 0.9324772\tbest: 0.9324772 (900)\ttotal: 29.5s\tremaining: 36s\n",
      "1000:\ttest: 0.9326253\tbest: 0.9326253 (1000)\ttotal: 32.7s\tremaining: 32.6s\n",
      "1100:\ttest: 0.9327539\tbest: 0.9327539 (1100)\ttotal: 35.8s\tremaining: 29.2s\n",
      "1200:\ttest: 0.9328470\tbest: 0.9328470 (1200)\ttotal: 38.9s\tremaining: 25.9s\n",
      "1300:\ttest: 0.9329214\tbest: 0.9329214 (1300)\ttotal: 42s\tremaining: 22.6s\n",
      "1400:\ttest: 0.9330048\tbest: 0.9330048 (1400)\ttotal: 45.2s\tremaining: 19.3s\n",
      "1500:\ttest: 0.9330365\tbest: 0.9330633 (1478)\ttotal: 48.4s\tremaining: 16.1s\n",
      "1600:\ttest: 0.9331047\tbest: 0.9331054 (1594)\ttotal: 51.5s\tremaining: 12.8s\n",
      "1700:\ttest: 0.9331636\tbest: 0.9331638 (1694)\ttotal: 54.7s\tremaining: 9.61s\n",
      "1800:\ttest: 0.9332286\tbest: 0.9332288 (1795)\ttotal: 58.2s\tremaining: 6.43s\n",
      "1900:\ttest: 0.9332867\tbest: 0.9332872 (1895)\ttotal: 1m 1s\tremaining: 3.21s\n",
      "1999:\ttest: 0.9333330\tbest: 0.9333330 (1999)\ttotal: 1m 4s\tremaining: 0us\n",
      "\n",
      "bestTest = 0.9333329888\n",
      "bestIteration = 1999\n",
      "\n",
      "Lvl_0_Pipe_1_Mod_3_CatBoost fitting and predicting completed\n"
     ]
    },
    {
     "name": "stderr",
     "output_type": "stream",
     "text": [
      "INFO:optuna.study:Trial 5 finished with value: 0.9333329877326009 and parameters: {'max_depth': 3, 'l2_leaf_reg': 5.472429642032198e-06, 'min_data_in_leaf': 11}. Best is trial 0 with value: 0.93371337517085.\n"
     ]
    },
    {
     "name": "stdout",
     "output_type": "stream",
     "text": [
      "Start fitting Lvl_0_Pipe_1_Mod_3_CatBoost ...\n",
      "\n",
      "===== Start working with fold 0 for Lvl_0_Pipe_1_Mod_3_CatBoost =====\n",
      "\n",
      "0:\ttest: 0.9158174\tbest: 0.9158174 (0)\ttotal: 101ms\tremaining: 3m 21s\n",
      "100:\ttest: 0.9302846\tbest: 0.9302846 (100)\ttotal: 4.39s\tremaining: 1m 22s\n",
      "200:\ttest: 0.9315339\tbest: 0.9315339 (200)\ttotal: 8.28s\tremaining: 1m 14s\n",
      "300:\ttest: 0.9321290\tbest: 0.9321290 (300)\ttotal: 12.2s\tremaining: 1m 8s\n",
      "400:\ttest: 0.9325512\tbest: 0.9325512 (400)\ttotal: 16.1s\tremaining: 1m 4s\n",
      "500:\ttest: 0.9328694\tbest: 0.9328694 (500)\ttotal: 20s\tremaining: 59.8s\n",
      "600:\ttest: 0.9330831\tbest: 0.9330831 (600)\ttotal: 23.9s\tremaining: 55.6s\n",
      "700:\ttest: 0.9331761\tbest: 0.9332403 (684)\ttotal: 27.7s\tremaining: 51.3s\n",
      "800:\ttest: 0.9332842\tbest: 0.9332842 (800)\ttotal: 31.6s\tremaining: 47.3s\n",
      "900:\ttest: 0.9333719\tbest: 0.9333719 (900)\ttotal: 35.8s\tremaining: 43.6s\n",
      "1000:\ttest: 0.9333808\tbest: 0.9333976 (921)\ttotal: 39.7s\tremaining: 39.6s\n",
      "1100:\ttest: 0.9334345\tbest: 0.9334444 (1097)\ttotal: 43.5s\tremaining: 35.5s\n",
      "1200:\ttest: 0.9334650\tbest: 0.9334663 (1189)\ttotal: 47.5s\tremaining: 31.6s\n",
      "1300:\ttest: 0.9334583\tbest: 0.9334731 (1270)\ttotal: 51.6s\tremaining: 27.7s\n",
      "Stopped by overfitting detector  (100 iterations wait)\n",
      "\n",
      "bestTest = 0.9334731273\n",
      "bestIteration = 1270\n",
      "\n",
      "Shrink model to first 1271 iterations.\n",
      "Lvl_0_Pipe_1_Mod_3_CatBoost fitting and predicting completed\n"
     ]
    },
    {
     "name": "stderr",
     "output_type": "stream",
     "text": [
      "INFO:optuna.study:Trial 6 finished with value: 0.9334731283663411 and parameters: {'max_depth': 5, 'l2_leaf_reg': 4.17890272377219e-06, 'min_data_in_leaf': 13}. Best is trial 0 with value: 0.93371337517085.\n"
     ]
    },
    {
     "name": "stdout",
     "output_type": "stream",
     "text": [
      "Start fitting Lvl_0_Pipe_1_Mod_3_CatBoost ...\n",
      "\n",
      "===== Start working with fold 0 for Lvl_0_Pipe_1_Mod_3_CatBoost =====\n",
      "\n",
      "0:\ttest: 0.9117982\tbest: 0.9117982 (0)\ttotal: 58ms\tremaining: 2m 53s\n",
      "100:\ttest: 0.9283949\tbest: 0.9283986 (99)\ttotal: 4.06s\tremaining: 1m 56s\n",
      "200:\ttest: 0.9301541\tbest: 0.9301541 (200)\ttotal: 7.67s\tremaining: 1m 46s\n",
      "300:\ttest: 0.9309288\tbest: 0.9309288 (300)\ttotal: 11.4s\tremaining: 1m 42s\n",
      "400:\ttest: 0.9314020\tbest: 0.9314020 (400)\ttotal: 15.3s\tremaining: 1m 38s\n",
      "500:\ttest: 0.9318731\tbest: 0.9318731 (500)\ttotal: 18.9s\tremaining: 1m 34s\n",
      "600:\ttest: 0.9321481\tbest: 0.9321481 (600)\ttotal: 22.8s\tremaining: 1m 31s\n",
      "700:\ttest: 0.9323662\tbest: 0.9323664 (699)\ttotal: 26.6s\tremaining: 1m 27s\n",
      "800:\ttest: 0.9325734\tbest: 0.9325745 (799)\ttotal: 30.3s\tremaining: 1m 23s\n",
      "900:\ttest: 0.9327599\tbest: 0.9327599 (900)\ttotal: 34.1s\tremaining: 1m 19s\n",
      "1000:\ttest: 0.9328764\tbest: 0.9328764 (1000)\ttotal: 37.8s\tremaining: 1m 15s\n",
      "1100:\ttest: 0.9330005\tbest: 0.9330005 (1100)\ttotal: 41.6s\tremaining: 1m 11s\n",
      "1200:\ttest: 0.9331064\tbest: 0.9331064 (1200)\ttotal: 45.3s\tremaining: 1m 7s\n",
      "1300:\ttest: 0.9331976\tbest: 0.9331976 (1300)\ttotal: 49s\tremaining: 1m 3s\n",
      "1400:\ttest: 0.9332610\tbest: 0.9332616 (1399)\ttotal: 52.9s\tremaining: 1m\n",
      "1500:\ttest: 0.9333541\tbest: 0.9333541 (1500)\ttotal: 56.6s\tremaining: 56.5s\n",
      "1600:\ttest: 0.9334103\tbest: 0.9334113 (1598)\ttotal: 1m\tremaining: 53.1s\n",
      "1700:\ttest: 0.9334841\tbest: 0.9334841 (1700)\ttotal: 1m 4s\tremaining: 49.4s\n",
      "1800:\ttest: 0.9335450\tbest: 0.9335450 (1800)\ttotal: 1m 8s\tremaining: 45.5s\n",
      "1900:\ttest: 0.9335813\tbest: 0.9335813 (1900)\ttotal: 1m 12s\tremaining: 41.7s\n",
      "2000:\ttest: 0.9336353\tbest: 0.9336353 (2000)\ttotal: 1m 15s\tremaining: 37.9s\n",
      "2100:\ttest: 0.9336592\tbest: 0.9336621 (2093)\ttotal: 1m 19s\tremaining: 34.1s\n",
      "2200:\ttest: 0.9336914\tbest: 0.9336914 (2200)\ttotal: 1m 23s\tremaining: 30.3s\n",
      "2300:\ttest: 0.9337016\tbest: 0.9337046 (2276)\ttotal: 1m 27s\tremaining: 26.5s\n",
      "2400:\ttest: 0.9337207\tbest: 0.9337214 (2384)\ttotal: 1m 31s\tremaining: 22.7s\n",
      "2500:\ttest: 0.9337547\tbest: 0.9337549 (2498)\ttotal: 1m 34s\tremaining: 18.9s\n",
      "2600:\ttest: 0.9337677\tbest: 0.9337694 (2596)\ttotal: 1m 38s\tremaining: 15.1s\n",
      "2700:\ttest: 0.9337855\tbest: 0.9337862 (2699)\ttotal: 1m 42s\tremaining: 11.3s\n",
      "2800:\ttest: 0.9337995\tbest: 0.9338013 (2797)\ttotal: 1m 45s\tremaining: 7.52s\n",
      "2900:\ttest: 0.9338177\tbest: 0.9338192 (2888)\ttotal: 1m 49s\tremaining: 3.74s\n",
      "2999:\ttest: 0.9338385\tbest: 0.9338416 (2974)\ttotal: 1m 53s\tremaining: 0us\n",
      "\n",
      "bestTest = 0.9338415873\n",
      "bestIteration = 2974\n",
      "\n",
      "Shrink model to first 2975 iterations.\n",
      "\n",
      "===== Start working with fold 1 for Lvl_0_Pipe_1_Mod_3_CatBoost =====\n",
      "\n",
      "0:\ttest: 0.9128180\tbest: 0.9128180 (0)\ttotal: 82.1ms\tremaining: 4m 6s\n",
      "100:\ttest: 0.9281663\tbest: 0.9281663 (100)\ttotal: 4.25s\tremaining: 2m 2s\n",
      "200:\ttest: 0.9299597\tbest: 0.9299597 (200)\ttotal: 8.05s\tremaining: 1m 52s\n",
      "300:\ttest: 0.9308019\tbest: 0.9308019 (300)\ttotal: 11.9s\tremaining: 1m 46s\n",
      "400:\ttest: 0.9313229\tbest: 0.9313229 (400)\ttotal: 15.6s\tremaining: 1m 41s\n",
      "500:\ttest: 0.9317773\tbest: 0.9317773 (500)\ttotal: 19.6s\tremaining: 1m 37s\n",
      "600:\ttest: 0.9320949\tbest: 0.9320949 (600)\ttotal: 23.6s\tremaining: 1m 34s\n",
      "700:\ttest: 0.9323942\tbest: 0.9323948 (699)\ttotal: 27.3s\tremaining: 1m 29s\n",
      "800:\ttest: 0.9325649\tbest: 0.9325649 (800)\ttotal: 30.9s\tremaining: 1m 24s\n",
      "900:\ttest: 0.9327034\tbest: 0.9327034 (900)\ttotal: 34.7s\tremaining: 1m 20s\n",
      "1000:\ttest: 0.9328521\tbest: 0.9328521 (1000)\ttotal: 38.5s\tremaining: 1m 16s\n",
      "1100:\ttest: 0.9329675\tbest: 0.9329675 (1100)\ttotal: 42.2s\tremaining: 1m 12s\n",
      "1200:\ttest: 0.9330254\tbest: 0.9330262 (1199)\ttotal: 45.9s\tremaining: 1m 8s\n",
      "1300:\ttest: 0.9331001\tbest: 0.9331005 (1299)\ttotal: 49.7s\tremaining: 1m 4s\n",
      "1400:\ttest: 0.9331675\tbest: 0.9331675 (1400)\ttotal: 53.5s\tremaining: 1m 1s\n",
      "1500:\ttest: 0.9332382\tbest: 0.9332382 (1500)\ttotal: 57.2s\tremaining: 57.2s\n",
      "1600:\ttest: 0.9332826\tbest: 0.9332840 (1593)\ttotal: 1m 1s\tremaining: 53.3s\n",
      "1700:\ttest: 0.9333314\tbest: 0.9333314 (1700)\ttotal: 1m 4s\tremaining: 49.5s\n",
      "1800:\ttest: 0.9333610\tbest: 0.9333623 (1798)\ttotal: 1m 8s\tremaining: 45.6s\n",
      "1900:\ttest: 0.9334049\tbest: 0.9334083 (1896)\ttotal: 1m 12s\tremaining: 41.7s\n",
      "2000:\ttest: 0.9334384\tbest: 0.9334391 (1981)\ttotal: 1m 15s\tremaining: 37.9s\n",
      "2100:\ttest: 0.9334760\tbest: 0.9334760 (2094)\ttotal: 1m 19s\tremaining: 34.1s\n",
      "2200:\ttest: 0.9335148\tbest: 0.9335164 (2198)\ttotal: 1m 23s\tremaining: 30.3s\n",
      "2300:\ttest: 0.9335160\tbest: 0.9335234 (2233)\ttotal: 1m 27s\tremaining: 26.4s\n",
      "2400:\ttest: 0.9335462\tbest: 0.9335471 (2397)\ttotal: 1m 30s\tremaining: 22.6s\n",
      "2500:\ttest: 0.9335716\tbest: 0.9335716 (2500)\ttotal: 1m 34s\tremaining: 18.9s\n",
      "2600:\ttest: 0.9335881\tbest: 0.9335881 (2600)\ttotal: 1m 38s\tremaining: 15.1s\n",
      "2700:\ttest: 0.9336032\tbest: 0.9336054 (2681)\ttotal: 1m 41s\tremaining: 11.3s\n",
      "2800:\ttest: 0.9336172\tbest: 0.9336199 (2752)\ttotal: 1m 45s\tremaining: 7.5s\n",
      "2900:\ttest: 0.9336451\tbest: 0.9336464 (2893)\ttotal: 1m 49s\tremaining: 3.73s\n",
      "2999:\ttest: 0.9336615\tbest: 0.9336634 (2994)\ttotal: 1m 53s\tremaining: 0us\n",
      "\n",
      "bestTest = 0.9336633535\n",
      "bestIteration = 2994\n",
      "\n",
      "Shrink model to first 2995 iterations.\n",
      "\n",
      "===== Start working with fold 2 for Lvl_0_Pipe_1_Mod_3_CatBoost =====\n",
      "\n",
      "0:\ttest: 0.9123304\tbest: 0.9123304 (0)\ttotal: 103ms\tremaining: 5m 8s\n",
      "100:\ttest: 0.9283605\tbest: 0.9283605 (100)\ttotal: 4.45s\tremaining: 2m 7s\n",
      "200:\ttest: 0.9298387\tbest: 0.9298387 (200)\ttotal: 8.22s\tremaining: 1m 54s\n",
      "300:\ttest: 0.9306143\tbest: 0.9306143 (300)\ttotal: 11.9s\tremaining: 1m 46s\n",
      "400:\ttest: 0.9311058\tbest: 0.9311058 (400)\ttotal: 15.6s\tremaining: 1m 41s\n",
      "500:\ttest: 0.9314844\tbest: 0.9314844 (500)\ttotal: 19.4s\tremaining: 1m 36s\n",
      "600:\ttest: 0.9317417\tbest: 0.9317419 (599)\ttotal: 23.1s\tremaining: 1m 32s\n",
      "700:\ttest: 0.9320019\tbest: 0.9320019 (700)\ttotal: 26.9s\tremaining: 1m 28s\n",
      "800:\ttest: 0.9321924\tbest: 0.9321924 (800)\ttotal: 30.6s\tremaining: 1m 24s\n",
      "900:\ttest: 0.9323262\tbest: 0.9323262 (900)\ttotal: 34.4s\tremaining: 1m 20s\n",
      "1000:\ttest: 0.9324232\tbest: 0.9324232 (1000)\ttotal: 38.1s\tremaining: 1m 16s\n",
      "1100:\ttest: 0.9325287\tbest: 0.9325287 (1100)\ttotal: 41.9s\tremaining: 1m 12s\n",
      "1200:\ttest: 0.9326021\tbest: 0.9326021 (1200)\ttotal: 45.6s\tremaining: 1m 8s\n",
      "1300:\ttest: 0.9326644\tbest: 0.9326649 (1294)\ttotal: 49.3s\tremaining: 1m 4s\n",
      "1400:\ttest: 0.9327320\tbest: 0.9327320 (1400)\ttotal: 53s\tremaining: 1m\n",
      "1500:\ttest: 0.9327870\tbest: 0.9327872 (1498)\ttotal: 56.8s\tremaining: 56.7s\n",
      "1600:\ttest: 0.9328546\tbest: 0.9328546 (1600)\ttotal: 1m\tremaining: 52.9s\n",
      "1700:\ttest: 0.9329075\tbest: 0.9329075 (1700)\ttotal: 1m 4s\tremaining: 49.1s\n",
      "1800:\ttest: 0.9329521\tbest: 0.9329539 (1787)\ttotal: 1m 8s\tremaining: 45.4s\n",
      "1900:\ttest: 0.9329988\tbest: 0.9330009 (1897)\ttotal: 1m 12s\tremaining: 41.8s\n",
      "2000:\ttest: 0.9330268\tbest: 0.9330310 (1961)\ttotal: 1m 16s\tremaining: 38s\n",
      "2100:\ttest: 0.9330580\tbest: 0.9330580 (2100)\ttotal: 1m 19s\tremaining: 34.2s\n",
      "2200:\ttest: 0.9331036\tbest: 0.9331036 (2200)\ttotal: 1m 23s\tremaining: 30.4s\n",
      "2300:\ttest: 0.9331407\tbest: 0.9331407 (2300)\ttotal: 1m 27s\tremaining: 26.6s\n",
      "2400:\ttest: 0.9331667\tbest: 0.9331670 (2399)\ttotal: 1m 31s\tremaining: 22.7s\n",
      "2500:\ttest: 0.9332043\tbest: 0.9332058 (2495)\ttotal: 1m 34s\tremaining: 18.9s\n",
      "2600:\ttest: 0.9332453\tbest: 0.9332453 (2600)\ttotal: 1m 38s\tremaining: 15.1s\n",
      "2700:\ttest: 0.9332781\tbest: 0.9332785 (2699)\ttotal: 1m 42s\tremaining: 11.3s\n",
      "2800:\ttest: 0.9332971\tbest: 0.9332971 (2800)\ttotal: 1m 46s\tremaining: 7.54s\n",
      "2900:\ttest: 0.9333229\tbest: 0.9333258 (2888)\ttotal: 1m 49s\tremaining: 3.74s\n",
      "2999:\ttest: 0.9333441\tbest: 0.9333441 (2999)\ttotal: 1m 53s\tremaining: 0us\n",
      "\n",
      "bestTest = 0.933344124\n",
      "bestIteration = 2999\n",
      "\n",
      "\n",
      "===== Start working with fold 3 for Lvl_0_Pipe_1_Mod_3_CatBoost =====\n",
      "\n",
      "0:\ttest: 0.9128599\tbest: 0.9128599 (0)\ttotal: 86.6ms\tremaining: 4m 19s\n",
      "100:\ttest: 0.9286977\tbest: 0.9286977 (100)\ttotal: 4.3s\tremaining: 2m 3s\n",
      "200:\ttest: 0.9303060\tbest: 0.9303060 (200)\ttotal: 8.08s\tremaining: 1m 52s\n",
      "300:\ttest: 0.9309830\tbest: 0.9309830 (300)\ttotal: 11.7s\tremaining: 1m 44s\n",
      "400:\ttest: 0.9313815\tbest: 0.9313815 (400)\ttotal: 15.4s\tremaining: 1m 39s\n",
      "500:\ttest: 0.9317347\tbest: 0.9317347 (500)\ttotal: 19.1s\tremaining: 1m 35s\n",
      "600:\ttest: 0.9320150\tbest: 0.9320150 (600)\ttotal: 22.8s\tremaining: 1m 30s\n",
      "700:\ttest: 0.9322184\tbest: 0.9322204 (699)\ttotal: 26.4s\tremaining: 1m 26s\n",
      "800:\ttest: 0.9323899\tbest: 0.9323899 (800)\ttotal: 30.3s\tremaining: 1m 23s\n",
      "900:\ttest: 0.9324994\tbest: 0.9324994 (900)\ttotal: 34s\tremaining: 1m 19s\n"
     ]
    },
    {
     "name": "stdout",
     "output_type": "stream",
     "text": [
      "1000:\ttest: 0.9326142\tbest: 0.9326142 (1000)\ttotal: 37.7s\tremaining: 1m 15s\n",
      "1100:\ttest: 0.9327102\tbest: 0.9327102 (1100)\ttotal: 41.4s\tremaining: 1m 11s\n",
      "1200:\ttest: 0.9327773\tbest: 0.9327777 (1199)\ttotal: 45.1s\tremaining: 1m 7s\n",
      "1300:\ttest: 0.9328100\tbest: 0.9328165 (1276)\ttotal: 48.8s\tremaining: 1m 3s\n",
      "1400:\ttest: 0.9328548\tbest: 0.9328560 (1394)\ttotal: 52.5s\tremaining: 60s\n",
      "1500:\ttest: 0.9329170\tbest: 0.9329178 (1495)\ttotal: 56.3s\tremaining: 56.2s\n",
      "1600:\ttest: 0.9329671\tbest: 0.9329671 (1600)\ttotal: 1m\tremaining: 52.5s\n",
      "1700:\ttest: 0.9329885\tbest: 0.9329885 (1700)\ttotal: 1m 3s\tremaining: 48.7s\n",
      "1800:\ttest: 0.9330204\tbest: 0.9330219 (1799)\ttotal: 1m 7s\tremaining: 45s\n",
      "1900:\ttest: 0.9330568\tbest: 0.9330568 (1900)\ttotal: 1m 11s\tremaining: 41.2s\n",
      "2000:\ttest: 0.9330843\tbest: 0.9330929 (1957)\ttotal: 1m 15s\tremaining: 37.5s\n",
      "Stopped by overfitting detector  (100 iterations wait)\n",
      "\n",
      "bestTest = 0.9330928905\n",
      "bestIteration = 1957\n",
      "\n",
      "Shrink model to first 1958 iterations.\n",
      "\n",
      "===== Start working with fold 4 for Lvl_0_Pipe_1_Mod_3_CatBoost =====\n",
      "\n",
      "0:\ttest: 0.8880865\tbest: 0.8880865 (0)\ttotal: 89ms\tremaining: 4m 27s\n",
      "100:\ttest: 0.9272649\tbest: 0.9273100 (99)\ttotal: 4.19s\tremaining: 2m\n",
      "200:\ttest: 0.9286005\tbest: 0.9286393 (198)\ttotal: 7.8s\tremaining: 1m 48s\n",
      "300:\ttest: 0.9292380\tbest: 0.9292380 (300)\ttotal: 11.5s\tremaining: 1m 42s\n",
      "400:\ttest: 0.9295378\tbest: 0.9295378 (400)\ttotal: 15.1s\tremaining: 1m 37s\n",
      "500:\ttest: 0.9294967\tbest: 0.9296343 (444)\ttotal: 19.1s\tremaining: 1m 35s\n",
      "Stopped by overfitting detector  (100 iterations wait)\n",
      "\n",
      "bestTest = 0.9296343176\n",
      "bestIteration = 444\n",
      "\n",
      "Shrink model to first 445 iterations.\n",
      "Lvl_0_Pipe_1_Mod_3_CatBoost fitting and predicting completed\n",
      "Time left 2028.112648010254\n",
      "Blending: Optimization starts with equal weights and score 0.929989473313224\n",
      "Blending, iter 0: score = 0.9326456803471456, weights = [0.         0.         0.         0.47034243 0.5296576 ]\n",
      "Blending, iter 1: score = 0.9326456461018686, weights = [0.         0.         0.         0.47034243 0.5296576 ]\n",
      "No score update. Terminated\n",
      "\n",
      "Automl preset training completed in 1579.57 seconds.\n",
      "Current random state: {'reader_params': {'random_state': 43}, 'general_params': {'return_all_predictions': False}}\n",
      "Found reader_params in kwargs, need to combine\n",
      "Merged variant for reader_params = {'n_jobs': 8, 'cv': 5, 'random_state': 43}\n",
      "Start automl preset with listed constraints:\n",
      "- time: 2020.358603477478 seconds\n",
      "- cpus: 8 cores\n",
      "- memory: 16 gb\n",
      "\n",
      "Train data shape: (299899, 10)\n",
      "Feats was rejected during automatic roles guess: []\n",
      "\n",
      "\n",
      "Layer 1 ...\n",
      "Train process start. Time left 1944.0805041790009 secs\n",
      "Start fitting Lvl_0_Pipe_0_Mod_0_LinearL2 ...\n",
      "\n",
      "===== Start working with fold 0 for Lvl_0_Pipe_0_Mod_0_LinearL2 =====\n",
      "\n",
      "Linear model: C = 1e-05 score = 0.8924592759106876\n",
      "Linear model: C = 5e-05 score = 0.8981640845937198\n",
      "Linear model: C = 0.0001 score = 0.9022072456963257\n",
      "Linear model: C = 0.0005 score = 0.9145495575328488\n",
      "Linear model: C = 0.001 score = 0.9173435426569332\n",
      "Linear model: C = 0.005 score = 0.9213363240675647\n",
      "Linear model: C = 0.01 score = 0.9222293565455463\n",
      "Linear model: C = 0.05 score = 0.9231448834617653\n",
      "Linear model: C = 0.1 score = 0.9231448834617653\n",
      "Linear model: C = 0.5 score = 0.9231448834617653\n",
      "\n",
      "===== Start working with fold 1 for Lvl_0_Pipe_0_Mod_0_LinearL2 =====\n",
      "\n",
      "Linear model: C = 1e-05 score = 0.8906464175398691\n",
      "Linear model: C = 5e-05 score = 0.8971549619574203\n",
      "Linear model: C = 0.0001 score = 0.901297019535577\n",
      "Linear model: C = 0.0005 score = 0.9143836041379138\n",
      "Linear model: C = 0.001 score = 0.9174588050412714\n",
      "Linear model: C = 0.005 score = 0.9216593477141041\n",
      "Linear model: C = 0.01 score = 0.9225921316886667\n",
      "Linear model: C = 0.05 score = 0.9233791106983421\n",
      "Linear model: C = 0.1 score = 0.9233791106983421\n",
      "Linear model: C = 0.5 score = 0.9233791106983421\n",
      "\n",
      "===== Start working with fold 2 for Lvl_0_Pipe_0_Mod_0_LinearL2 =====\n",
      "\n",
      "Linear model: C = 1e-05 score = 0.8930776953438186\n",
      "Linear model: C = 5e-05 score = 0.8990043958189464\n",
      "Linear model: C = 0.0001 score = 0.9029949974432958\n",
      "Linear model: C = 0.0005 score = 0.915403304936257\n",
      "Linear model: C = 0.001 score = 0.918327333408124\n",
      "Linear model: C = 0.005 score = 0.9220052627301242\n",
      "Linear model: C = 0.01 score = 0.9229541051863348\n",
      "Linear model: C = 0.05 score = 0.9239210146852329\n",
      "Linear model: C = 0.1 score = 0.9239210146852329\n",
      "Linear model: C = 0.5 score = 0.9239210146852329\n",
      "\n",
      "===== Start working with fold 3 for Lvl_0_Pipe_0_Mod_0_LinearL2 =====\n",
      "\n",
      "Linear model: C = 1e-05 score = 0.894070243599039\n",
      "Linear model: C = 5e-05 score = 0.9000633266551782\n",
      "Linear model: C = 0.0001 score = 0.9040188343319063\n",
      "Linear model: C = 0.0005 score = 0.9166232075135415\n",
      "Linear model: C = 0.001 score = 0.9195305848865261\n",
      "Linear model: C = 0.005 score = 0.9233190595598111\n",
      "Linear model: C = 0.01 score = 0.9242363520973591\n",
      "Linear model: C = 0.05 score = 0.9250881548712302\n",
      "Linear model: C = 0.1 score = 0.9250881548712302\n",
      "Linear model: C = 0.5 score = 0.9250881548712302\n",
      "\n",
      "===== Start working with fold 4 for Lvl_0_Pipe_0_Mod_0_LinearL2 =====\n",
      "\n",
      "Linear model: C = 1e-05 score = 0.893329157336572\n",
      "Linear model: C = 5e-05 score = 0.8992203382209355\n",
      "Linear model: C = 0.0001 score = 0.9031260333968626\n",
      "Linear model: C = 0.0005 score = 0.9156964717228594\n",
      "Linear model: C = 0.001 score = 0.9182877280633666\n",
      "Linear model: C = 0.005 score = 0.9217960812595829\n",
      "Linear model: C = 0.01 score = 0.922686229810328\n",
      "Linear model: C = 0.05 score = 0.9235026128453391\n",
      "Linear model: C = 0.1 score = 0.9235026128453391\n",
      "Linear model: C = 0.5 score = 0.9235026128453391\n",
      "Lvl_0_Pipe_0_Mod_0_LinearL2 fitting and predicting completed\n",
      "Time left 1901.9063866138458\n",
      "Start fitting Selector_LightGBM ...\n",
      "\n",
      "===== Start working with fold 0 for Selector_LightGBM =====\n",
      "\n",
      "Training until validation scores don't improve for 100 rounds\n",
      "[100]\tvalid's auc: 0.927509\n",
      "[200]\tvalid's auc: 0.929067\n",
      "[300]\tvalid's auc: 0.92907\n",
      "Early stopping, best iteration is:\n",
      "[250]\tvalid's auc: 0.929191\n",
      "Selector_LightGBM fitting and predicting completed\n",
      "Start fitting Lvl_0_Pipe_1_Mod_0_LightGBM ...\n",
      "\n",
      "===== Start working with fold 0 for Lvl_0_Pipe_1_Mod_0_LightGBM =====\n",
      "\n",
      "Training until validation scores don't improve for 100 rounds\n",
      "[100]\tvalid's auc: 0.931638\n",
      "[200]\tvalid's auc: 0.931943\n",
      "[300]\tvalid's auc: 0.93192\n",
      "Early stopping, best iteration is:\n",
      "[287]\tvalid's auc: 0.931975\n",
      "\n",
      "===== Start working with fold 1 for Lvl_0_Pipe_1_Mod_0_LightGBM =====\n",
      "\n",
      "Training until validation scores don't improve for 100 rounds\n",
      "[100]\tvalid's auc: 0.932238\n",
      "[200]\tvalid's auc: 0.932614\n",
      "[300]\tvalid's auc: 0.932586\n",
      "[400]\tvalid's auc: 0.932605\n",
      "Early stopping, best iteration is:\n",
      "[326]\tvalid's auc: 0.93267\n",
      "\n",
      "===== Start working with fold 2 for Lvl_0_Pipe_1_Mod_0_LightGBM =====\n",
      "\n",
      "Training until validation scores don't improve for 100 rounds\n",
      "[100]\tvalid's auc: 0.932622\n",
      "[200]\tvalid's auc: 0.933029\n",
      "[300]\tvalid's auc: 0.933036\n",
      "[400]\tvalid's auc: 0.933057\n",
      "Early stopping, best iteration is:\n",
      "[359]\tvalid's auc: 0.933118\n",
      "\n",
      "===== Start working with fold 3 for Lvl_0_Pipe_1_Mod_0_LightGBM =====\n",
      "\n",
      "Training until validation scores don't improve for 100 rounds\n",
      "[100]\tvalid's auc: 0.933636\n",
      "[200]\tvalid's auc: 0.933941\n",
      "[300]\tvalid's auc: 0.934108\n",
      "[400]\tvalid's auc: 0.93411\n",
      "Early stopping, best iteration is:\n",
      "[394]\tvalid's auc: 0.934141\n",
      "\n",
      "===== Start working with fold 4 for Lvl_0_Pipe_1_Mod_0_LightGBM =====\n",
      "\n",
      "Training until validation scores don't improve for 100 rounds\n",
      "[100]\tvalid's auc: 0.932025\n",
      "Early stopping, best iteration is:\n",
      "[97]\tvalid's auc: 0.932047\n",
      "Lvl_0_Pipe_1_Mod_0_LightGBM fitting and predicting completed\n",
      "Optuna may run 260.33640246824785 secs\n"
     ]
    },
    {
     "name": "stderr",
     "output_type": "stream",
     "text": [
      "INFO:optuna.storages._in_memory:A new study created in memory with name: no-name-5c77ae7d-fc02-4000-9788-3bba6a88a918\n"
     ]
    },
    {
     "name": "stdout",
     "output_type": "stream",
     "text": [
      "Start fitting Lvl_0_Pipe_1_Mod_1_LightGBM ...\n",
      "\n",
      "===== Start working with fold 0 for Lvl_0_Pipe_1_Mod_1_LightGBM =====\n",
      "\n",
      "Training until validation scores don't improve for 100 rounds\n",
      "[100]\tvalid's auc: 0.931736\n",
      "[200]\tvalid's auc: 0.931997\n",
      "[300]\tvalid's auc: 0.93187\n",
      "Early stopping, best iteration is:\n",
      "[228]\tvalid's auc: 0.932062\n",
      "Lvl_0_Pipe_1_Mod_1_LightGBM fitting and predicting completed\n"
     ]
    },
    {
     "name": "stderr",
     "output_type": "stream",
     "text": [
      "INFO:optuna.study:Trial 0 finished with value: 0.9320623524502611 and parameters: {'feature_fraction': 0.6872700594236812, 'num_leaves': 244, 'bagging_fraction': 0.8659969709057025, 'min_sum_hessian_in_leaf': 0.24810409748678125, 'reg_alpha': 2.5361081166471375e-07, 'reg_lambda': 2.5348407664333426e-07}. Best is trial 0 with value: 0.9320623524502611.\n"
     ]
    },
    {
     "name": "stdout",
     "output_type": "stream",
     "text": [
      "Start fitting Lvl_0_Pipe_1_Mod_1_LightGBM ...\n",
      "\n",
      "===== Start working with fold 0 for Lvl_0_Pipe_1_Mod_1_LightGBM =====\n",
      "\n",
      "Training until validation scores don't improve for 100 rounds\n",
      "[100]\tvalid's auc: 0.931458\n",
      "[200]\tvalid's auc: 0.931744\n",
      "[300]\tvalid's auc: 0.931659\n",
      "Early stopping, best iteration is:\n",
      "[222]\tvalid's auc: 0.931782\n",
      "Lvl_0_Pipe_1_Mod_1_LightGBM fitting and predicting completed\n"
     ]
    },
    {
     "name": "stderr",
     "output_type": "stream",
     "text": [
      "INFO:optuna.study:Trial 1 finished with value: 0.9317824102977086 and parameters: {'feature_fraction': 0.5290418060840998, 'num_leaves': 223, 'bagging_fraction': 0.8005575058716043, 'min_sum_hessian_in_leaf': 0.679657809075816, 'reg_alpha': 1.5320059381854043e-08, 'reg_lambda': 5.360294728728285}. Best is trial 0 with value: 0.9320623524502611.\n"
     ]
    },
    {
     "name": "stdout",
     "output_type": "stream",
     "text": [
      "Start fitting Lvl_0_Pipe_1_Mod_1_LightGBM ...\n",
      "\n",
      "===== Start working with fold 0 for Lvl_0_Pipe_1_Mod_1_LightGBM =====\n",
      "\n",
      "Training until validation scores don't improve for 100 rounds\n",
      "[100]\tvalid's auc: 0.931449\n",
      "[200]\tvalid's auc: 0.931809\n",
      "[300]\tvalid's auc: 0.9319\n",
      "Early stopping, best iteration is:\n",
      "[242]\tvalid's auc: 0.931926\n",
      "Lvl_0_Pipe_1_Mod_1_LightGBM fitting and predicting completed\n"
     ]
    },
    {
     "name": "stderr",
     "output_type": "stream",
     "text": [
      "INFO:optuna.study:Trial 2 finished with value: 0.9319259326299831 and parameters: {'feature_fraction': 0.9162213204002109, 'num_leaves': 66, 'bagging_fraction': 0.5909124836035503, 'min_sum_hessian_in_leaf': 0.00541524411940254, 'reg_alpha': 5.472429642032198e-06, 'reg_lambda': 0.00052821153945323}. Best is trial 0 with value: 0.9320623524502611.\n"
     ]
    },
    {
     "name": "stdout",
     "output_type": "stream",
     "text": [
      "Start fitting Lvl_0_Pipe_1_Mod_1_LightGBM ...\n",
      "\n",
      "===== Start working with fold 0 for Lvl_0_Pipe_1_Mod_1_LightGBM =====\n",
      "\n",
      "Training until validation scores don't improve for 100 rounds\n",
      "[100]\tvalid's auc: 0.931546\n",
      "[200]\tvalid's auc: 0.932017\n",
      "[300]\tvalid's auc: 0.932099\n",
      "Early stopping, best iteration is:\n",
      "[293]\tvalid's auc: 0.932113\n",
      "Lvl_0_Pipe_1_Mod_1_LightGBM fitting and predicting completed\n"
     ]
    },
    {
     "name": "stderr",
     "output_type": "stream",
     "text": [
      "INFO:optuna.study:Trial 3 finished with value: 0.9321129372789707 and parameters: {'feature_fraction': 0.7159725093210578, 'num_leaves': 85, 'bagging_fraction': 0.8059264473611898, 'min_sum_hessian_in_leaf': 0.003613894271216527, 'reg_alpha': 4.258943089524393e-06, 'reg_lambda': 1.9826980964985924e-05}. Best is trial 3 with value: 0.9321129372789707.\n"
     ]
    },
    {
     "name": "stdout",
     "output_type": "stream",
     "text": [
      "Start fitting Lvl_0_Pipe_1_Mod_1_LightGBM ...\n",
      "\n",
      "===== Start working with fold 0 for Lvl_0_Pipe_1_Mod_1_LightGBM =====\n",
      "\n",
      "Training until validation scores don't improve for 100 rounds\n",
      "[100]\tvalid's auc: 0.931213\n",
      "[200]\tvalid's auc: 0.931538\n",
      "Early stopping, best iteration is:\n",
      "[193]\tvalid's auc: 0.931578\n",
      "Lvl_0_Pipe_1_Mod_1_LightGBM fitting and predicting completed\n"
     ]
    },
    {
     "name": "stderr",
     "output_type": "stream",
     "text": [
      "INFO:optuna.study:Trial 4 finished with value: 0.9315780668692387 and parameters: {'feature_fraction': 0.728034992108518, 'num_leaves': 204, 'bagging_fraction': 0.5998368910791798, 'min_sum_hessian_in_leaf': 0.11400863701127326, 'reg_alpha': 0.0021465011216654484, 'reg_lambda': 2.6185068507773707e-08}. Best is trial 3 with value: 0.9321129372789707.\n"
     ]
    },
    {
     "name": "stdout",
     "output_type": "stream",
     "text": [
      "Start fitting Lvl_0_Pipe_1_Mod_1_LightGBM ...\n",
      "\n",
      "===== Start working with fold 0 for Lvl_0_Pipe_1_Mod_1_LightGBM =====\n",
      "\n",
      "Training until validation scores don't improve for 100 rounds\n",
      "[100]\tvalid's auc: 0.931168\n",
      "[200]\tvalid's auc: 0.931647\n",
      "[300]\tvalid's auc: 0.931774\n",
      "[400]\tvalid's auc: 0.931827\n",
      "[500]\tvalid's auc: 0.931828\n",
      "[600]\tvalid's auc: 0.931861\n",
      "[700]\tvalid's auc: 0.931772\n",
      "Early stopping, best iteration is:\n",
      "[614]\tvalid's auc: 0.931874\n",
      "Lvl_0_Pipe_1_Mod_1_LightGBM fitting and predicting completed\n"
     ]
    },
    {
     "name": "stderr",
     "output_type": "stream",
     "text": [
      "INFO:optuna.study:Trial 5 finished with value: 0.9318737044836887 and parameters: {'feature_fraction': 0.8037724259507192, 'num_leaves': 56, 'bagging_fraction': 0.5325257964926398, 'min_sum_hessian_in_leaf': 6.245139574743075, 'reg_alpha': 4.905556676028774, 'reg_lambda': 0.18861495878553936}. Best is trial 3 with value: 0.9321129372789707.\n"
     ]
    },
    {
     "name": "stdout",
     "output_type": "stream",
     "text": [
      "Start fitting Lvl_0_Pipe_1_Mod_1_LightGBM ...\n",
      "\n",
      "===== Start working with fold 0 for Lvl_0_Pipe_1_Mod_1_LightGBM =====\n",
      "\n",
      "Training until validation scores don't improve for 100 rounds\n",
      "[100]\tvalid's auc: 0.931229\n",
      "[200]\tvalid's auc: 0.931729\n",
      "[300]\tvalid's auc: 0.931907\n",
      "[400]\tvalid's auc: 0.932041\n",
      "[500]\tvalid's auc: 0.932049\n",
      "[600]\tvalid's auc: 0.932134\n",
      "[700]\tvalid's auc: 0.932207\n",
      "[800]\tvalid's auc: 0.93223\n",
      "[900]\tvalid's auc: 0.932216\n",
      "Early stopping, best iteration is:\n",
      "[806]\tvalid's auc: 0.932243\n",
      "Lvl_0_Pipe_1_Mod_1_LightGBM fitting and predicting completed\n"
     ]
    },
    {
     "name": "stderr",
     "output_type": "stream",
     "text": [
      "INFO:optuna.study:Trial 6 finished with value: 0.9322432874979667 and parameters: {'feature_fraction': 0.6523068845866853, 'num_leaves': 39, 'bagging_fraction': 0.8421165132560784, 'min_sum_hessian_in_leaf': 0.057624872164786026, 'reg_alpha': 1.254134495897175e-07, 'reg_lambda': 0.00028614897264046574}. Best is trial 6 with value: 0.9322432874979667.\n"
     ]
    },
    {
     "name": "stdout",
     "output_type": "stream",
     "text": [
      "Start fitting Lvl_0_Pipe_1_Mod_1_LightGBM ...\n",
      "\n",
      "===== Start working with fold 0 for Lvl_0_Pipe_1_Mod_1_LightGBM =====\n",
      "\n",
      "Training until validation scores don't improve for 100 rounds\n",
      "[100]\tvalid's auc: 0.931708\n",
      "Early stopping, best iteration is:\n",
      "[86]\tvalid's auc: 0.931768\n",
      "Lvl_0_Pipe_1_Mod_1_LightGBM fitting and predicting completed\n"
     ]
    },
    {
     "name": "stderr",
     "output_type": "stream",
     "text": [
      "INFO:optuna.study:Trial 7 finished with value: 0.9317684954671452 and parameters: {'feature_fraction': 0.5171942605576092, 'num_leaves': 234, 'bagging_fraction': 0.6293899908000085, 'min_sum_hessian_in_leaf': 0.4467752817973907, 'reg_alpha': 6.388511557344611e-06, 'reg_lambda': 0.0004793052550782129}. Best is trial 6 with value: 0.9322432874979667.\n"
     ]
    },
    {
     "name": "stdout",
     "output_type": "stream",
     "text": [
      "Start fitting Lvl_0_Pipe_1_Mod_1_LightGBM ...\n",
      "\n",
      "===== Start working with fold 0 for Lvl_0_Pipe_1_Mod_1_LightGBM =====\n",
      "\n",
      "Training until validation scores don't improve for 100 rounds\n",
      "[100]\tvalid's auc: 0.931365\n",
      "[200]\tvalid's auc: 0.931958\n",
      "[300]\tvalid's auc: 0.932065\n",
      "[400]\tvalid's auc: 0.932099\n",
      "[500]\tvalid's auc: 0.932159\n",
      "[600]\tvalid's auc: 0.932156\n",
      "Early stopping, best iteration is:\n",
      "[522]\tvalid's auc: 0.932185\n",
      "Lvl_0_Pipe_1_Mod_1_LightGBM fitting and predicting completed\n"
     ]
    },
    {
     "name": "stderr",
     "output_type": "stream",
     "text": [
      "INFO:optuna.study:Trial 8 finished with value: 0.9321852326901008 and parameters: {'feature_fraction': 0.7733551396716398, 'num_leaves': 60, 'bagging_fraction': 0.9847923138822793, 'min_sum_hessian_in_leaf': 1.2604664585649468, 'reg_alpha': 2.854239907497756, 'reg_lambda': 1.1309571585271483}. Best is trial 6 with value: 0.9322432874979667.\n"
     ]
    },
    {
     "name": "stdout",
     "output_type": "stream",
     "text": [
      "Start fitting Lvl_0_Pipe_1_Mod_1_LightGBM ...\n",
      "\n",
      "===== Start working with fold 0 for Lvl_0_Pipe_1_Mod_1_LightGBM =====\n",
      "\n",
      "Training until validation scores don't improve for 100 rounds\n",
      "[100]\tvalid's auc: 0.931619\n",
      "[200]\tvalid's auc: 0.931606\n",
      "Early stopping, best iteration is:\n",
      "[148]\tvalid's auc: 0.931768\n",
      "Lvl_0_Pipe_1_Mod_1_LightGBM fitting and predicting completed\n"
     ]
    },
    {
     "name": "stderr",
     "output_type": "stream",
     "text": [
      "INFO:optuna.study:Trial 9 finished with value: 0.931767648791678 and parameters: {'feature_fraction': 0.7989499894055425, 'num_leaves': 237, 'bagging_fraction': 0.5442462510259598, 'min_sum_hessian_in_leaf': 0.006080390190296602, 'reg_alpha': 2.5529693461039728e-08, 'reg_lambda': 8.471746987003668e-06}. Best is trial 6 with value: 0.9322432874979667.\n"
     ]
    },
    {
     "name": "stdout",
     "output_type": "stream",
     "text": [
      "Start fitting Lvl_0_Pipe_1_Mod_1_LightGBM ...\n",
      "\n",
      "===== Start working with fold 0 for Lvl_0_Pipe_1_Mod_1_LightGBM =====\n",
      "\n",
      "Training until validation scores don't improve for 100 rounds\n",
      "[100]\tvalid's auc: 0.930198\n",
      "[200]\tvalid's auc: 0.930997\n",
      "[300]\tvalid's auc: 0.931308\n",
      "[400]\tvalid's auc: 0.931454\n",
      "[500]\tvalid's auc: 0.931561\n",
      "[600]\tvalid's auc: 0.931633\n",
      "[700]\tvalid's auc: 0.931679\n",
      "[800]\tvalid's auc: 0.931779\n",
      "[900]\tvalid's auc: 0.931822\n",
      "[1000]\tvalid's auc: 0.93185\n",
      "[1100]\tvalid's auc: 0.931882\n",
      "[1200]\tvalid's auc: 0.931894\n",
      "Early stopping, best iteration is:\n",
      "[1175]\tvalid's auc: 0.931915\n",
      "Lvl_0_Pipe_1_Mod_1_LightGBM fitting and predicting completed\n"
     ]
    },
    {
     "name": "stderr",
     "output_type": "stream",
     "text": [
      "INFO:optuna.study:Trial 10 finished with value: 0.9319145917373146 and parameters: {'feature_fraction': 0.6047595825745748, 'num_leaves': 16, 'bagging_fraction': 0.9797780952829837, 'min_sum_hessian_in_leaf': 0.02380775230693608, 'reg_alpha': 0.004323838313271428, 'reg_lambda': 0.018211685984916886}. Best is trial 6 with value: 0.9322432874979667.\n"
     ]
    },
    {
     "name": "stdout",
     "output_type": "stream",
     "text": [
      "Start fitting Lvl_0_Pipe_1_Mod_1_LightGBM ...\n",
      "\n",
      "===== Start working with fold 0 for Lvl_0_Pipe_1_Mod_1_LightGBM =====\n",
      "\n",
      "Training until validation scores don't improve for 100 rounds\n",
      "[100]\tvalid's auc: 0.931542\n",
      "[200]\tvalid's auc: 0.932113\n",
      "[300]\tvalid's auc: 0.932108\n",
      "Early stopping, best iteration is:\n",
      "[230]\tvalid's auc: 0.932157\n",
      "Lvl_0_Pipe_1_Mod_1_LightGBM fitting and predicting completed\n"
     ]
    },
    {
     "name": "stderr",
     "output_type": "stream",
     "text": [
      "INFO:optuna.study:Trial 11 finished with value: 0.9321572062311312 and parameters: {'feature_fraction': 0.9240463497890247, 'num_leaves': 133, 'bagging_fraction': 0.9961813327301685, 'min_sum_hessian_in_leaf': 3.7972214282396766, 'reg_alpha': 6.391162403755944, 'reg_lambda': 0.06556151462878797}. Best is trial 6 with value: 0.9322432874979667.\n"
     ]
    },
    {
     "name": "stdout",
     "output_type": "stream",
     "text": [
      "Start fitting Lvl_0_Pipe_1_Mod_1_LightGBM ...\n",
      "\n",
      "===== Start working with fold 0 for Lvl_0_Pipe_1_Mod_1_LightGBM =====\n",
      "\n",
      "Training until validation scores don't improve for 100 rounds\n",
      "[100]\tvalid's auc: 0.930313\n",
      "[200]\tvalid's auc: 0.931101\n",
      "[300]\tvalid's auc: 0.931367\n",
      "[400]\tvalid's auc: 0.93149\n",
      "[500]\tvalid's auc: 0.931552\n",
      "[600]\tvalid's auc: 0.931609\n",
      "[700]\tvalid's auc: 0.93169\n",
      "[800]\tvalid's auc: 0.931744\n",
      "[900]\tvalid's auc: 0.931825\n",
      "[1000]\tvalid's auc: 0.931828\n",
      "[1100]\tvalid's auc: 0.931847\n",
      "[1200]\tvalid's auc: 0.931865\n",
      "[1300]\tvalid's auc: 0.93191\n",
      "[1400]\tvalid's auc: 0.931935\n",
      "Early stopping, best iteration is:\n",
      "[1385]\tvalid's auc: 0.931943\n",
      "Lvl_0_Pipe_1_Mod_1_LightGBM fitting and predicting completed\n"
     ]
    },
    {
     "name": "stderr",
     "output_type": "stream",
     "text": [
      "INFO:optuna.study:Trial 12 finished with value: 0.9319433064328101 and parameters: {'feature_fraction': 0.6300585154499979, 'num_leaves': 17, 'bagging_fraction': 0.9126444059266825, 'min_sum_hessian_in_leaf': 0.03200457414040258, 'reg_alpha': 0.07367743907015423, 'reg_lambda': 0.003647611303645848}. Best is trial 6 with value: 0.9322432874979667.\n"
     ]
    },
    {
     "name": "stdout",
     "output_type": "stream",
     "text": [
      "Start fitting Lvl_0_Pipe_1_Mod_1_LightGBM ...\n",
      "\n",
      "===== Start working with fold 0 for Lvl_0_Pipe_1_Mod_1_LightGBM =====\n",
      "\n",
      "Training until validation scores don't improve for 100 rounds\n",
      "[100]\tvalid's auc: 0.931595\n",
      "[200]\tvalid's auc: 0.932035\n",
      "[300]\tvalid's auc: 0.932073\n",
      "[400]\tvalid's auc: 0.932041\n",
      "Early stopping, best iteration is:\n",
      "[317]\tvalid's auc: 0.932108\n",
      "Lvl_0_Pipe_1_Mod_1_LightGBM fitting and predicting completed\n"
     ]
    },
    {
     "name": "stderr",
     "output_type": "stream",
     "text": [
      "INFO:optuna.study:Trial 13 finished with value: 0.932108119067365 and parameters: {'feature_fraction': 0.8399105462722534, 'num_leaves': 107, 'bagging_fraction': 0.7007735594444523, 'min_sum_hessian_in_leaf': 1.7064968469828123, 'reg_alpha': 0.0997593988264026, 'reg_lambda': 6.4605459520254565}. Best is trial 6 with value: 0.9322432874979667.\n"
     ]
    },
    {
     "name": "stdout",
     "output_type": "stream",
     "text": [
      "Start fitting Lvl_0_Pipe_1_Mod_1_LightGBM ...\n",
      "\n",
      "===== Start working with fold 0 for Lvl_0_Pipe_1_Mod_1_LightGBM =====\n",
      "\n",
      "Training until validation scores don't improve for 100 rounds\n",
      "[100]\tvalid's auc: 0.931265\n",
      "[200]\tvalid's auc: 0.931734\n",
      "[300]\tvalid's auc: 0.931907\n",
      "[400]\tvalid's auc: 0.932033\n",
      "[500]\tvalid's auc: 0.932124\n",
      "[600]\tvalid's auc: 0.932131\n",
      "[700]\tvalid's auc: 0.932162\n",
      "[800]\tvalid's auc: 0.932199\n",
      "Early stopping, best iteration is:\n",
      "[787]\tvalid's auc: 0.932208\n",
      "Lvl_0_Pipe_1_Mod_1_LightGBM fitting and predicting completed\n"
     ]
    },
    {
     "name": "stderr",
     "output_type": "stream",
     "text": [
      "INFO:optuna.study:Trial 14 finished with value: 0.9322081134969854 and parameters: {'feature_fraction': 0.6322070432159306, 'num_leaves': 37, 'bagging_fraction': 0.9310401324660806, 'min_sum_hessian_in_leaf': 0.042360579557752846, 'reg_alpha': 0.0001164230197601839, 'reg_lambda': 2.0929128454356573e-05}. Best is trial 6 with value: 0.9322432874979667.\n"
     ]
    },
    {
     "name": "stdout",
     "output_type": "stream",
     "text": [
      "Start fitting Lvl_0_Pipe_1_Mod_1_LightGBM ...\n",
      "\n",
      "===== Start working with fold 0 for Lvl_0_Pipe_1_Mod_1_LightGBM =====\n",
      "\n",
      "Training until validation scores don't improve for 100 rounds\n",
      "[100]\tvalid's auc: 0.931121\n",
      "[200]\tvalid's auc: 0.931676\n",
      "[300]\tvalid's auc: 0.931847\n",
      "[400]\tvalid's auc: 0.931949\n",
      "[500]\tvalid's auc: 0.932056\n",
      "[600]\tvalid's auc: 0.932082\n",
      "[700]\tvalid's auc: 0.93211\n",
      "[800]\tvalid's auc: 0.93209\n",
      "Early stopping, best iteration is:\n",
      "[756]\tvalid's auc: 0.932134\n",
      "Lvl_0_Pipe_1_Mod_1_LightGBM fitting and predicting completed\n"
     ]
    },
    {
     "name": "stderr",
     "output_type": "stream",
     "text": [
      "INFO:optuna.study:Trial 15 finished with value: 0.9321335865984449 and parameters: {'feature_fraction': 0.6002130015085906, 'num_leaves': 32, 'bagging_fraction': 0.901177896508804, 'min_sum_hessian_in_leaf': 0.0240692784229488, 'reg_alpha': 9.642561701649188e-05, 'reg_lambda': 1.238826309821302e-05}. Best is trial 6 with value: 0.9322432874979667.\n"
     ]
    },
    {
     "name": "stdout",
     "output_type": "stream",
     "text": [
      "Start fitting Lvl_0_Pipe_1_Mod_1_LightGBM ...\n",
      "\n",
      "===== Start working with fold 0 for Lvl_0_Pipe_1_Mod_1_LightGBM =====\n",
      "\n",
      "Training until validation scores don't improve for 100 rounds\n",
      "[100]\tvalid's auc: 0.931561\n",
      "[200]\tvalid's auc: 0.931736\n",
      "[300]\tvalid's auc: 0.931768\n",
      "Early stopping, best iteration is:\n",
      "[287]\tvalid's auc: 0.931823\n",
      "Lvl_0_Pipe_1_Mod_1_LightGBM fitting and predicting completed\n"
     ]
    },
    {
     "name": "stderr",
     "output_type": "stream",
     "text": [
      "INFO:optuna.study:Trial 16 finished with value: 0.9318229517652933 and parameters: {'feature_fraction': 0.6500460892074529, 'num_leaves': 182, 'bagging_fraction': 0.7163467651363635, 'min_sum_hessian_in_leaf': 0.07461635890006406, 'reg_alpha': 3.868301316487181e-07, 'reg_lambda': 1.0043930597674118e-06}. Best is trial 6 with value: 0.9322432874979667.\n"
     ]
    },
    {
     "name": "stdout",
     "output_type": "stream",
     "text": [
      "Start fitting Lvl_0_Pipe_1_Mod_1_LightGBM ...\n",
      "\n",
      "===== Start working with fold 0 for Lvl_0_Pipe_1_Mod_1_LightGBM =====\n",
      "\n",
      "Training until validation scores don't improve for 100 rounds\n",
      "[100]\tvalid's auc: 0.931599\n",
      "[200]\tvalid's auc: 0.931854\n",
      "[300]\tvalid's auc: 0.931863\n",
      "Early stopping, best iteration is:\n",
      "[294]\tvalid's auc: 0.931906\n",
      "Lvl_0_Pipe_1_Mod_1_LightGBM fitting and predicting completed\n"
     ]
    },
    {
     "name": "stderr",
     "output_type": "stream",
     "text": [
      "INFO:optuna.study:Trial 17 finished with value: 0.9319059287407239 and parameters: {'feature_fraction': 0.5621416538702528, 'num_leaves': 150, 'bagging_fraction': 0.83663589538233, 'min_sum_hessian_in_leaf': 0.0018224591544545878, 'reg_alpha': 0.00013280860280764123, 'reg_lambda': 3.580186182981024e-05}. Best is trial 6 with value: 0.9322432874979667.\n"
     ]
    },
    {
     "name": "stdout",
     "output_type": "stream",
     "text": [
      "Start fitting Lvl_0_Pipe_1_Mod_1_LightGBM ...\n",
      "\n",
      "===== Start working with fold 0 for Lvl_0_Pipe_1_Mod_1_LightGBM =====\n",
      "\n",
      "Training until validation scores don't improve for 100 rounds\n",
      "[100]\tvalid's auc: 0.931224\n",
      "[200]\tvalid's auc: 0.931676\n",
      "[300]\tvalid's auc: 0.931901\n",
      "[400]\tvalid's auc: 0.931948\n",
      "Early stopping, best iteration is:\n",
      "[395]\tvalid's auc: 0.931954\n",
      "Lvl_0_Pipe_1_Mod_1_LightGBM fitting and predicting completed\n"
     ]
    },
    {
     "name": "stderr",
     "output_type": "stream",
     "text": [
      "INFO:optuna.study:Trial 18 finished with value: 0.9319536144147639 and parameters: {'feature_fraction': 0.6567290912374352, 'num_leaves': 35, 'bagging_fraction': 0.9312118842856114, 'min_sum_hessian_in_leaf': 0.06752780422516506, 'reg_alpha': 1.0246273679318374e-06, 'reg_lambda': 0.002907265032623263}. Best is trial 6 with value: 0.9322432874979667.\n"
     ]
    },
    {
     "name": "stdout",
     "output_type": "stream",
     "text": [
      "Start fitting Lvl_0_Pipe_1_Mod_1_LightGBM ...\n",
      "\n",
      "===== Start working with fold 0 for Lvl_0_Pipe_1_Mod_1_LightGBM =====\n",
      "\n",
      "Training until validation scores don't improve for 100 rounds\n",
      "[100]\tvalid's auc: 0.931706\n",
      "[200]\tvalid's auc: 0.932041\n",
      "[300]\tvalid's auc: 0.932175\n",
      "[400]\tvalid's auc: 0.932091\n",
      "Early stopping, best iteration is:\n",
      "[301]\tvalid's auc: 0.932189\n",
      "Lvl_0_Pipe_1_Mod_1_LightGBM fitting and predicting completed\n"
     ]
    },
    {
     "name": "stderr",
     "output_type": "stream",
     "text": [
      "INFO:optuna.study:Trial 19 finished with value: 0.9321892998455303 and parameters: {'feature_fraction': 0.9993979541767993, 'num_leaves': 101, 'bagging_fraction': 0.7778203399078135, 'min_sum_hessian_in_leaf': 0.013845250924151937, 'reg_alpha': 5.0961256397405026e-08, 'reg_lambda': 5.528662091313524e-07}. Best is trial 6 with value: 0.9322432874979667.\n"
     ]
    },
    {
     "name": "stdout",
     "output_type": "stream",
     "text": [
      "Start fitting Lvl_0_Pipe_1_Mod_1_LightGBM ...\n",
      "\n",
      "===== Start working with fold 0 for Lvl_0_Pipe_1_Mod_1_LightGBM =====\n",
      "\n",
      "Training until validation scores don't improve for 100 rounds\n",
      "[100]\tvalid's auc: 0.931262\n",
      "[200]\tvalid's auc: 0.931834\n",
      "[300]\tvalid's auc: 0.93196\n",
      "[400]\tvalid's auc: 0.932094\n",
      "[500]\tvalid's auc: 0.932097\n",
      "[600]\tvalid's auc: 0.932075\n",
      "[700]\tvalid's auc: 0.93211\n",
      "Early stopping, best iteration is:\n",
      "[692]\tvalid's auc: 0.932117\n",
      "Lvl_0_Pipe_1_Mod_1_LightGBM fitting and predicting completed\n"
     ]
    },
    {
     "name": "stderr",
     "output_type": "stream",
     "text": [
      "INFO:optuna.study:Trial 20 finished with value: 0.9321168215347096 and parameters: {'feature_fraction': 0.576630032137386, 'num_leaves': 41, 'bagging_fraction': 0.864093921243036, 'min_sum_hessian_in_leaf': 0.2777384024844465, 'reg_alpha': 3.6667875188861574e-05, 'reg_lambda': 8.112156105676496e-05}. Best is trial 6 with value: 0.9322432874979667.\n"
     ]
    },
    {
     "name": "stdout",
     "output_type": "stream",
     "text": [
      "Start fitting Lvl_0_Pipe_1_Mod_1_LightGBM ...\n",
      "\n",
      "===== Start working with fold 0 for Lvl_0_Pipe_1_Mod_1_LightGBM =====\n",
      "\n",
      "Training until validation scores don't improve for 100 rounds\n",
      "[100]\tvalid's auc: 0.93158\n",
      "[200]\tvalid's auc: 0.931874\n",
      "[300]\tvalid's auc: 0.931998\n",
      "[400]\tvalid's auc: 0.931902\n",
      "Early stopping, best iteration is:\n",
      "[305]\tvalid's auc: 0.932022\n",
      "Lvl_0_Pipe_1_Mod_1_LightGBM fitting and predicting completed\n"
     ]
    },
    {
     "name": "stderr",
     "output_type": "stream",
     "text": [
      "INFO:optuna.study:Trial 21 finished with value: 0.9320223730239745 and parameters: {'feature_fraction': 0.9890762756984843, 'num_leaves': 98, 'bagging_fraction': 0.7608209143737961, 'min_sum_hessian_in_leaf': 0.011576282759020142, 'reg_alpha': 8.33303980050144e-08, 'reg_lambda': 7.319757509251883e-07}. Best is trial 6 with value: 0.9322432874979667.\n"
     ]
    },
    {
     "name": "stdout",
     "output_type": "stream",
     "text": [
      "Start fitting Lvl_0_Pipe_1_Mod_1_LightGBM ...\n",
      "\n",
      "===== Start working with fold 0 for Lvl_0_Pipe_1_Mod_1_LightGBM =====\n",
      "\n",
      "Training until validation scores don't improve for 100 rounds\n",
      "[100]\tvalid's auc: 0.931414\n",
      "[200]\tvalid's auc: 0.931787\n",
      "[300]\tvalid's auc: 0.931858\n",
      "[400]\tvalid's auc: 0.932021\n",
      "[500]\tvalid's auc: 0.932029\n",
      "Early stopping, best iteration is:\n",
      "[490]\tvalid's auc: 0.932059\n",
      "\n",
      "===== Start working with fold 1 for Lvl_0_Pipe_1_Mod_1_LightGBM =====\n",
      "\n",
      "Training until validation scores don't improve for 100 rounds\n",
      "[100]\tvalid's auc: 0.932104\n",
      "[200]\tvalid's auc: 0.932494\n",
      "[300]\tvalid's auc: 0.932673\n",
      "[400]\tvalid's auc: 0.932687\n",
      "Early stopping, best iteration is:\n",
      "[340]\tvalid's auc: 0.932725\n",
      "\n",
      "===== Start working with fold 2 for Lvl_0_Pipe_1_Mod_1_LightGBM =====\n",
      "\n",
      "Training until validation scores don't improve for 100 rounds\n",
      "[100]\tvalid's auc: 0.932485\n",
      "[200]\tvalid's auc: 0.932955\n",
      "[300]\tvalid's auc: 0.933017\n",
      "[400]\tvalid's auc: 0.933082\n",
      "[500]\tvalid's auc: 0.933221\n",
      "[600]\tvalid's auc: 0.933237\n",
      "[700]\tvalid's auc: 0.933265\n",
      "[800]\tvalid's auc: 0.933284\n",
      "Early stopping, best iteration is:\n",
      "[715]\tvalid's auc: 0.933307\n",
      "\n",
      "===== Start working with fold 3 for Lvl_0_Pipe_1_Mod_1_LightGBM =====\n",
      "\n",
      "Training until validation scores don't improve for 100 rounds\n",
      "[100]\tvalid's auc: 0.933458\n",
      "[200]\tvalid's auc: 0.933765\n",
      "[300]\tvalid's auc: 0.933892\n",
      "[400]\tvalid's auc: 0.933911\n",
      "[500]\tvalid's auc: 0.933939\n",
      "[600]\tvalid's auc: 0.933894\n",
      "Early stopping, best iteration is:\n",
      "[533]\tvalid's auc: 0.933975\n",
      "\n",
      "===== Start working with fold 4 for Lvl_0_Pipe_1_Mod_1_LightGBM =====\n",
      "\n",
      "Training until validation scores don't improve for 100 rounds\n",
      "[100]\tvalid's auc: 0.931575\n",
      "[200]\tvalid's auc: 0.931525\n",
      "Early stopping, best iteration is:\n",
      "[115]\tvalid's auc: 0.931665\n",
      "Lvl_0_Pipe_1_Mod_1_LightGBM fitting and predicting completed\n",
      "Start fitting Lvl_0_Pipe_1_Mod_2_CatBoost ...\n",
      "\n",
      "===== Start working with fold 0 for Lvl_0_Pipe_1_Mod_2_CatBoost =====\n",
      "\n",
      "0:\ttest: 0.9160416\tbest: 0.9160416 (0)\ttotal: 94.3ms\tremaining: 3m 8s\n",
      "100:\ttest: 0.9293605\tbest: 0.9293605 (100)\ttotal: 4.56s\tremaining: 1m 25s\n",
      "200:\ttest: 0.9304480\tbest: 0.9304501 (199)\ttotal: 8.86s\tremaining: 1m 19s\n",
      "300:\ttest: 0.9309434\tbest: 0.9309453 (299)\ttotal: 13.7s\tremaining: 1m 17s\n",
      "400:\ttest: 0.9312723\tbest: 0.9312723 (400)\ttotal: 18.4s\tremaining: 1m 13s\n",
      "500:\ttest: 0.9315368\tbest: 0.9315368 (500)\ttotal: 22.8s\tremaining: 1m 8s\n",
      "600:\ttest: 0.9317363\tbest: 0.9317363 (600)\ttotal: 27s\tremaining: 1m 2s\n",
      "700:\ttest: 0.9318662\tbest: 0.9318677 (697)\ttotal: 31s\tremaining: 57.5s\n",
      "800:\ttest: 0.9319731\tbest: 0.9319785 (794)\ttotal: 35.4s\tremaining: 53s\n",
      "900:\ttest: 0.9320421\tbest: 0.9320447 (885)\ttotal: 39.6s\tremaining: 48.3s\n",
      "1000:\ttest: 0.9321125\tbest: 0.9321125 (1000)\ttotal: 43.5s\tremaining: 43.5s\n",
      "1100:\ttest: 0.9321421\tbest: 0.9321421 (1100)\ttotal: 47.7s\tremaining: 38.9s\n",
      "1200:\ttest: 0.9322063\tbest: 0.9322127 (1173)\ttotal: 51.9s\tremaining: 34.5s\n",
      "1300:\ttest: 0.9322527\tbest: 0.9322527 (1300)\ttotal: 55.9s\tremaining: 30.1s\n",
      "1400:\ttest: 0.9322507\tbest: 0.9322722 (1326)\ttotal: 1m\tremaining: 25.7s\n",
      "Stopped by overfitting detector  (100 iterations wait)\n",
      "\n",
      "bestTest = 0.9322722029\n",
      "bestIteration = 1326\n",
      "\n",
      "Shrink model to first 1327 iterations.\n",
      "\n",
      "===== Start working with fold 1 for Lvl_0_Pipe_1_Mod_2_CatBoost =====\n",
      "\n",
      "0:\ttest: 0.9151231\tbest: 0.9151231 (0)\ttotal: 101ms\tremaining: 3m 21s\n",
      "100:\ttest: 0.9297015\tbest: 0.9297015 (100)\ttotal: 4.57s\tremaining: 1m 25s\n",
      "200:\ttest: 0.9308529\tbest: 0.9308529 (200)\ttotal: 8.75s\tremaining: 1m 18s\n",
      "300:\ttest: 0.9314459\tbest: 0.9314468 (299)\ttotal: 12.7s\tremaining: 1m 11s\n",
      "400:\ttest: 0.9318711\tbest: 0.9318711 (400)\ttotal: 16.9s\tremaining: 1m 7s\n",
      "500:\ttest: 0.9321353\tbest: 0.9321353 (500)\ttotal: 20.9s\tremaining: 1m 2s\n",
      "600:\ttest: 0.9323292\tbest: 0.9323292 (600)\ttotal: 24.9s\tremaining: 58s\n",
      "700:\ttest: 0.9324740\tbest: 0.9324792 (698)\ttotal: 28.9s\tremaining: 53.5s\n",
      "800:\ttest: 0.9325760\tbest: 0.9325785 (797)\ttotal: 32.9s\tremaining: 49.2s\n",
      "900:\ttest: 0.9326941\tbest: 0.9326941 (900)\ttotal: 37.1s\tremaining: 45.3s\n",
      "1000:\ttest: 0.9327220\tbest: 0.9327225 (991)\ttotal: 41.7s\tremaining: 41.6s\n",
      "1100:\ttest: 0.9327643\tbest: 0.9327727 (1088)\ttotal: 47.2s\tremaining: 38.5s\n",
      "1200:\ttest: 0.9328037\tbest: 0.9328037 (1200)\ttotal: 51.9s\tremaining: 34.6s\n",
      "1300:\ttest: 0.9328032\tbest: 0.9328539 (1285)\ttotal: 56.2s\tremaining: 30.2s\n",
      "Stopped by overfitting detector  (100 iterations wait)\n",
      "\n",
      "bestTest = 0.9328539279\n",
      "bestIteration = 1285\n",
      "\n",
      "Shrink model to first 1286 iterations.\n",
      "\n",
      "===== Start working with fold 2 for Lvl_0_Pipe_1_Mod_2_CatBoost =====\n",
      "\n",
      "0:\ttest: 0.9171734\tbest: 0.9171734 (0)\ttotal: 168ms\tremaining: 5m 35s\n",
      "100:\ttest: 0.9297571\tbest: 0.9297571 (100)\ttotal: 5.5s\tremaining: 1m 43s\n",
      "200:\ttest: 0.9310540\tbest: 0.9310540 (200)\ttotal: 10.4s\tremaining: 1m 33s\n",
      "300:\ttest: 0.9316748\tbest: 0.9316748 (300)\ttotal: 14.8s\tremaining: 1m 23s\n",
      "400:\ttest: 0.9320742\tbest: 0.9320742 (400)\ttotal: 19.3s\tremaining: 1m 17s\n",
      "500:\ttest: 0.9322821\tbest: 0.9322821 (500)\ttotal: 23.7s\tremaining: 1m 10s\n",
      "600:\ttest: 0.9324765\tbest: 0.9324802 (599)\ttotal: 28.2s\tremaining: 1m 5s\n",
      "700:\ttest: 0.9325961\tbest: 0.9325961 (700)\ttotal: 33s\tremaining: 1m 1s\n",
      "800:\ttest: 0.9327108\tbest: 0.9327111 (797)\ttotal: 37.4s\tremaining: 56s\n",
      "900:\ttest: 0.9328213\tbest: 0.9328215 (899)\ttotal: 42.5s\tremaining: 51.9s\n",
      "1000:\ttest: 0.9328679\tbest: 0.9328679 (1000)\ttotal: 46.8s\tremaining: 46.7s\n",
      "1100:\ttest: 0.9329136\tbest: 0.9329193 (1069)\ttotal: 51s\tremaining: 41.7s\n",
      "1200:\ttest: 0.9329260\tbest: 0.9329348 (1198)\ttotal: 55.3s\tremaining: 36.8s\n",
      "1300:\ttest: 0.9329359\tbest: 0.9329368 (1282)\ttotal: 1m\tremaining: 32.3s\n",
      "1400:\ttest: 0.9329070\tbest: 0.9329731 (1352)\ttotal: 1m 4s\tremaining: 27.6s\n",
      "Stopped by overfitting detector  (100 iterations wait)\n",
      "\n",
      "bestTest = 0.9329731334\n",
      "bestIteration = 1352\n",
      "\n",
      "Shrink model to first 1353 iterations.\n",
      "\n",
      "===== Start working with fold 3 for Lvl_0_Pipe_1_Mod_2_CatBoost =====\n",
      "\n",
      "0:\ttest: 0.9167691\tbest: 0.9167691 (0)\ttotal: 137ms\tremaining: 4m 33s\n",
      "100:\ttest: 0.9312677\tbest: 0.9312677 (100)\ttotal: 4.9s\tremaining: 1m 32s\n",
      "200:\ttest: 0.9324138\tbest: 0.9324138 (200)\ttotal: 9.01s\tremaining: 1m 20s\n",
      "300:\ttest: 0.9329551\tbest: 0.9329551 (300)\ttotal: 13.2s\tremaining: 1m 14s\n",
      "400:\ttest: 0.9332377\tbest: 0.9332377 (400)\ttotal: 17.3s\tremaining: 1m 8s\n",
      "500:\ttest: 0.9334266\tbest: 0.9334266 (500)\ttotal: 21.5s\tremaining: 1m 4s\n",
      "600:\ttest: 0.9335371\tbest: 0.9335439 (595)\ttotal: 25.8s\tremaining: 1m\n",
      "700:\ttest: 0.9336256\tbest: 0.9336301 (699)\ttotal: 30.4s\tremaining: 56.3s\n",
      "800:\ttest: 0.9336899\tbest: 0.9336903 (798)\ttotal: 35.6s\tremaining: 53.3s\n",
      "900:\ttest: 0.9337477\tbest: 0.9337493 (899)\ttotal: 40.1s\tremaining: 48.9s\n",
      "1000:\ttest: 0.9338188\tbest: 0.9338203 (999)\ttotal: 44.4s\tremaining: 44.3s\n",
      "1100:\ttest: 0.9338730\tbest: 0.9338730 (1100)\ttotal: 48.5s\tremaining: 39.6s\n"
     ]
    }
   ],
   "source": [
    "automl = TabularUtilizedAutoML(task = task, \n",
    "                       timeout = TIMEOUT,\n",
    "                       cpu_limit = N_THREADS,\n",
    "                       reader_params = {'n_jobs': N_THREADS, 'cv': N_FOLDS, 'random_state': RANDOM_STATE},\n",
    "                      )\n",
    "oof_pred = automl.fit_predict(train_data, roles = roles)\n",
    "logging.info('oof_pred:\\n{}\\nShape = {}'.format(oof_pred, oof_pred.shape))"
   ]
  },
  {
   "cell_type": "code",
   "execution_count": null,
   "metadata": {},
   "outputs": [],
   "source": [
    "test = pd.read_csv(\"xtest.csv\")\n",
    "test['Is_Lead'] =[0]*test.shape[0]\n",
    "test.head()"
   ]
  },
  {
   "cell_type": "code",
   "execution_count": 22,
   "metadata": {},
   "outputs": [
    {
     "data": {
      "text/html": [
       "<div>\n",
       "<style scoped>\n",
       "    .dataframe tbody tr th:only-of-type {\n",
       "        vertical-align: middle;\n",
       "    }\n",
       "\n",
       "    .dataframe tbody tr th {\n",
       "        vertical-align: top;\n",
       "    }\n",
       "\n",
       "    .dataframe thead th {\n",
       "        text-align: right;\n",
       "    }\n",
       "</style>\n",
       "<table border=\"1\" class=\"dataframe\">\n",
       "  <thead>\n",
       "    <tr style=\"text-align: right;\">\n",
       "      <th></th>\n",
       "      <th>Gender</th>\n",
       "      <th>Age</th>\n",
       "      <th>Region_Code</th>\n",
       "      <th>Occupation</th>\n",
       "      <th>Channel_Code</th>\n",
       "      <th>Vintage</th>\n",
       "      <th>Credit_Product</th>\n",
       "      <th>Avg_Account_Balance</th>\n",
       "      <th>Is_Active</th>\n",
       "      <th>Is_Lead</th>\n",
       "    </tr>\n",
       "  </thead>\n",
       "  <tbody>\n",
       "    <tr>\n",
       "      <th>27048</th>\n",
       "      <td>1.0</td>\n",
       "      <td>29.0</td>\n",
       "      <td>0.0</td>\n",
       "      <td>3.0</td>\n",
       "      <td>0.0</td>\n",
       "      <td>21.0</td>\n",
       "      <td>0.0</td>\n",
       "      <td>1279935.0</td>\n",
       "      <td>0.0</td>\n",
       "      <td>0</td>\n",
       "    </tr>\n",
       "    <tr>\n",
       "      <th>19457</th>\n",
       "      <td>0.0</td>\n",
       "      <td>37.0</td>\n",
       "      <td>14.0</td>\n",
       "      <td>1.0</td>\n",
       "      <td>0.0</td>\n",
       "      <td>32.0</td>\n",
       "      <td>0.0</td>\n",
       "      <td>1060621.0</td>\n",
       "      <td>0.0</td>\n",
       "      <td>0</td>\n",
       "    </tr>\n",
       "    <tr>\n",
       "      <th>227262</th>\n",
       "      <td>1.0</td>\n",
       "      <td>71.0</td>\n",
       "      <td>33.0</td>\n",
       "      <td>1.0</td>\n",
       "      <td>1.0</td>\n",
       "      <td>80.0</td>\n",
       "      <td>0.0</td>\n",
       "      <td>647243.0</td>\n",
       "      <td>1.0</td>\n",
       "      <td>1</td>\n",
       "    </tr>\n",
       "    <tr>\n",
       "      <th>340435</th>\n",
       "      <td>1.0</td>\n",
       "      <td>43.0</td>\n",
       "      <td>4.0</td>\n",
       "      <td>3.0</td>\n",
       "      <td>2.0</td>\n",
       "      <td>93.0</td>\n",
       "      <td>0.0</td>\n",
       "      <td>1576991.0</td>\n",
       "      <td>1.0</td>\n",
       "      <td>1</td>\n",
       "    </tr>\n",
       "    <tr>\n",
       "      <th>65516</th>\n",
       "      <td>1.0</td>\n",
       "      <td>29.0</td>\n",
       "      <td>30.0</td>\n",
       "      <td>2.0</td>\n",
       "      <td>0.0</td>\n",
       "      <td>32.0</td>\n",
       "      <td>0.0</td>\n",
       "      <td>412710.0</td>\n",
       "      <td>1.0</td>\n",
       "      <td>0</td>\n",
       "    </tr>\n",
       "  </tbody>\n",
       "</table>\n",
       "</div>"
      ],
      "text/plain": [
       "        Gender   Age  Region_Code  Occupation  Channel_Code  Vintage  \\\n",
       "27048      1.0  29.0          0.0         3.0           0.0     21.0   \n",
       "19457      0.0  37.0         14.0         1.0           0.0     32.0   \n",
       "227262     1.0  71.0         33.0         1.0           1.0     80.0   \n",
       "340435     1.0  43.0          4.0         3.0           2.0     93.0   \n",
       "65516      1.0  29.0         30.0         2.0           0.0     32.0   \n",
       "\n",
       "        Credit_Product  Avg_Account_Balance  Is_Active  Is_Lead  \n",
       "27048              0.0            1279935.0        0.0        0  \n",
       "19457              0.0            1060621.0        0.0        0  \n",
       "227262             0.0             647243.0        1.0        1  \n",
       "340435             0.0            1576991.0        1.0        1  \n",
       "65516              0.0             412710.0        1.0        0  "
      ]
     },
     "execution_count": 22,
     "metadata": {},
     "output_type": "execute_result"
    }
   ],
   "source": [
    "test_data.head()"
   ]
  },
  {
   "cell_type": "code",
   "execution_count": 23,
   "metadata": {},
   "outputs": [
    {
     "data": {
      "text/html": [
       "<div>\n",
       "<style scoped>\n",
       "    .dataframe tbody tr th:only-of-type {\n",
       "        vertical-align: middle;\n",
       "    }\n",
       "\n",
       "    .dataframe tbody tr th {\n",
       "        vertical-align: top;\n",
       "    }\n",
       "\n",
       "    .dataframe thead th {\n",
       "        text-align: right;\n",
       "    }\n",
       "</style>\n",
       "<table border=\"1\" class=\"dataframe\">\n",
       "  <thead>\n",
       "    <tr style=\"text-align: right;\">\n",
       "      <th></th>\n",
       "      <th>Gender</th>\n",
       "      <th>Age</th>\n",
       "      <th>Region_Code</th>\n",
       "      <th>Occupation</th>\n",
       "      <th>Channel_Code</th>\n",
       "      <th>Vintage</th>\n",
       "      <th>Credit_Product</th>\n",
       "      <th>Avg_Account_Balance</th>\n",
       "      <th>Is_Active</th>\n",
       "      <th>Is_Lead</th>\n",
       "    </tr>\n",
       "  </thead>\n",
       "  <tbody>\n",
       "    <tr>\n",
       "      <th>0</th>\n",
       "      <td>Male</td>\n",
       "      <td>29</td>\n",
       "      <td>RG254</td>\n",
       "      <td>Other</td>\n",
       "      <td>X1</td>\n",
       "      <td>25</td>\n",
       "      <td>Yes</td>\n",
       "      <td>742366</td>\n",
       "      <td>No</td>\n",
       "      <td>0</td>\n",
       "    </tr>\n",
       "    <tr>\n",
       "      <th>1</th>\n",
       "      <td>Male</td>\n",
       "      <td>43</td>\n",
       "      <td>RG268</td>\n",
       "      <td>Other</td>\n",
       "      <td>X2</td>\n",
       "      <td>49</td>\n",
       "      <td>NaN</td>\n",
       "      <td>925537</td>\n",
       "      <td>No</td>\n",
       "      <td>0</td>\n",
       "    </tr>\n",
       "    <tr>\n",
       "      <th>2</th>\n",
       "      <td>Male</td>\n",
       "      <td>31</td>\n",
       "      <td>RG270</td>\n",
       "      <td>Salaried</td>\n",
       "      <td>X1</td>\n",
       "      <td>14</td>\n",
       "      <td>No</td>\n",
       "      <td>215949</td>\n",
       "      <td>No</td>\n",
       "      <td>0</td>\n",
       "    </tr>\n",
       "    <tr>\n",
       "      <th>3</th>\n",
       "      <td>Male</td>\n",
       "      <td>29</td>\n",
       "      <td>RG272</td>\n",
       "      <td>Other</td>\n",
       "      <td>X1</td>\n",
       "      <td>33</td>\n",
       "      <td>No</td>\n",
       "      <td>868070</td>\n",
       "      <td>No</td>\n",
       "      <td>0</td>\n",
       "    </tr>\n",
       "    <tr>\n",
       "      <th>4</th>\n",
       "      <td>Female</td>\n",
       "      <td>29</td>\n",
       "      <td>RG270</td>\n",
       "      <td>Other</td>\n",
       "      <td>X1</td>\n",
       "      <td>19</td>\n",
       "      <td>No</td>\n",
       "      <td>657087</td>\n",
       "      <td>No</td>\n",
       "      <td>0</td>\n",
       "    </tr>\n",
       "  </tbody>\n",
       "</table>\n",
       "</div>"
      ],
      "text/plain": [
       "   Gender  Age Region_Code Occupation Channel_Code  Vintage Credit_Product  \\\n",
       "0    Male   29       RG254      Other           X1       25            Yes   \n",
       "1    Male   43       RG268      Other           X2       49            NaN   \n",
       "2    Male   31       RG270   Salaried           X1       14             No   \n",
       "3    Male   29       RG272      Other           X1       33             No   \n",
       "4  Female   29       RG270      Other           X1       19             No   \n",
       "\n",
       "   Avg_Account_Balance Is_Active  Is_Lead  \n",
       "0               742366        No        0  \n",
       "1               925537        No        0  \n",
       "2               215949        No        0  \n",
       "3               868070        No        0  \n",
       "4               657087        No        0  "
      ]
     },
     "execution_count": 23,
     "metadata": {},
     "output_type": "execute_result"
    }
   ],
   "source": [
    "test.head()"
   ]
  },
  {
   "cell_type": "code",
   "execution_count": 30,
   "metadata": {},
   "outputs": [],
   "source": [
    "test_pred = automl.predict(test)"
   ]
  },
  {
   "cell_type": "code",
   "execution_count": 31,
   "metadata": {},
   "outputs": [],
   "source": [
    "t = list(test_pred.data[:,0])\n",
    "df = pd.read_csv(\"test.csv\")\n",
    "ids  = df['ID']\n",
    "ans=pd.DataFrame()\n",
    "ans['ID']=ids\n",
    "ans['Is_Lead']=t\n",
    "ans.to_csv(\"auto.csv\",index=False)"
   ]
  },
  {
   "cell_type": "code",
   "execution_count": null,
   "metadata": {},
   "outputs": [],
   "source": []
  }
 ],
 "metadata": {
  "kernelspec": {
   "display_name": "Python 3",
   "language": "python",
   "name": "python3"
  },
  "language_info": {
   "codemirror_mode": {
    "name": "ipython",
    "version": 3
   },
   "file_extension": ".py",
   "mimetype": "text/x-python",
   "name": "python",
   "nbconvert_exporter": "python",
   "pygments_lexer": "ipython3",
   "version": "3.8.3"
  }
 },
 "nbformat": 4,
 "nbformat_minor": 4
}
